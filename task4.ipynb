{
 "cells": [
  {
   "cell_type": "markdown",
   "id": "1519f064",
   "metadata": {},
   "source": [
    "### STEP 1: SETUP AND IMPORTS"
   ]
  },
  {
   "cell_type": "code",
   "execution_count": 50,
   "id": "dfdcf9cc",
   "metadata": {},
   "outputs": [],
   "source": [
    "import pandas as pd\n",
    "import numpy as np\n",
    "import matplotlib.pyplot as plt\n",
    "import seaborn as sns\n",
    "from sklearn.model_selection import StratifiedKFold, cross_val_score, train_test_split\n",
    "from sklearn.preprocessing import StandardScaler, RobustScaler, QuantileTransformer\n",
    "from sklearn.feature_selection import SelectKBest, mutual_info_classif, RFE\n",
    "from sklearn.metrics import roc_auc_score, classification_report, confusion_matrix\n",
    "from sklearn.ensemble import RandomForestClassifier, ExtraTreesClassifier\n",
    "import xgboost as xgb\n",
    "from xgboost import XGBClassifier\n",
    "import lightgbm as lgb\n",
    "import optuna\n",
    "from scipy import stats\n",
    "from scipy.stats import skew, kurtosis\n",
    "import warnings\n",
    "warnings.filterwarnings('ignore')"
   ]
  },
  {
   "cell_type": "code",
   "execution_count": 2,
   "id": "65a383ec",
   "metadata": {},
   "outputs": [],
   "source": [
    "train_data = pd.read_csv('train.csv')\n",
    "test_data = pd.read_csv('test.csv')"
   ]
  },
  {
   "cell_type": "code",
   "execution_count": 3,
   "id": "4046e715",
   "metadata": {},
   "outputs": [
    {
     "data": {
      "text/plain": [
       "Index(['id', 'age', 'job', 'marital', 'education', 'default', 'balance',\n",
       "       'housing', 'loan', 'contact', 'day', 'month', 'duration', 'campaign',\n",
       "       'pdays', 'previous', 'poutcome', 'y'],\n",
       "      dtype='object')"
      ]
     },
     "execution_count": 3,
     "metadata": {},
     "output_type": "execute_result"
    }
   ],
   "source": [
    "train_data.columns"
   ]
  },
  {
   "cell_type": "code",
   "execution_count": 4,
   "id": "1f9203d2",
   "metadata": {},
   "outputs": [],
   "source": [
    "data = train_data.copy()\n",
    "data1 = test_data.copy()"
   ]
  },
  {
   "cell_type": "markdown",
   "id": "1fb6554a",
   "metadata": {},
   "source": [
    "### Dataset loading part"
   ]
  },
  {
   "cell_type": "code",
   "execution_count": 5,
   "id": "75d00557",
   "metadata": {},
   "outputs": [],
   "source": [
    "# Create working copies\n",
    "datasets = {'train': data, 'test': data1}"
   ]
  },
  {
   "cell_type": "code",
   "execution_count": 6,
   "id": "27317c3e",
   "metadata": {},
   "outputs": [
    {
     "data": {
      "text/html": [
       "<div>\n",
       "<style scoped>\n",
       "    .dataframe tbody tr th:only-of-type {\n",
       "        vertical-align: middle;\n",
       "    }\n",
       "\n",
       "    .dataframe tbody tr th {\n",
       "        vertical-align: top;\n",
       "    }\n",
       "\n",
       "    .dataframe thead th {\n",
       "        text-align: right;\n",
       "    }\n",
       "</style>\n",
       "<table border=\"1\" class=\"dataframe\">\n",
       "  <thead>\n",
       "    <tr style=\"text-align: right;\">\n",
       "      <th></th>\n",
       "      <th>id</th>\n",
       "      <th>age</th>\n",
       "      <th>job</th>\n",
       "      <th>marital</th>\n",
       "      <th>education</th>\n",
       "      <th>default</th>\n",
       "      <th>balance</th>\n",
       "      <th>housing</th>\n",
       "      <th>loan</th>\n",
       "      <th>contact</th>\n",
       "      <th>day</th>\n",
       "      <th>month</th>\n",
       "      <th>duration</th>\n",
       "      <th>campaign</th>\n",
       "      <th>pdays</th>\n",
       "      <th>previous</th>\n",
       "      <th>poutcome</th>\n",
       "      <th>y</th>\n",
       "    </tr>\n",
       "  </thead>\n",
       "  <tbody>\n",
       "    <tr>\n",
       "      <th>0</th>\n",
       "      <td>0</td>\n",
       "      <td>42</td>\n",
       "      <td>technician</td>\n",
       "      <td>married</td>\n",
       "      <td>secondary</td>\n",
       "      <td>no</td>\n",
       "      <td>7</td>\n",
       "      <td>no</td>\n",
       "      <td>no</td>\n",
       "      <td>cellular</td>\n",
       "      <td>25</td>\n",
       "      <td>aug</td>\n",
       "      <td>117</td>\n",
       "      <td>3</td>\n",
       "      <td>-1</td>\n",
       "      <td>0</td>\n",
       "      <td>unknown</td>\n",
       "      <td>0</td>\n",
       "    </tr>\n",
       "    <tr>\n",
       "      <th>1</th>\n",
       "      <td>1</td>\n",
       "      <td>38</td>\n",
       "      <td>blue-collar</td>\n",
       "      <td>married</td>\n",
       "      <td>secondary</td>\n",
       "      <td>no</td>\n",
       "      <td>514</td>\n",
       "      <td>no</td>\n",
       "      <td>no</td>\n",
       "      <td>unknown</td>\n",
       "      <td>18</td>\n",
       "      <td>jun</td>\n",
       "      <td>185</td>\n",
       "      <td>1</td>\n",
       "      <td>-1</td>\n",
       "      <td>0</td>\n",
       "      <td>unknown</td>\n",
       "      <td>0</td>\n",
       "    </tr>\n",
       "    <tr>\n",
       "      <th>2</th>\n",
       "      <td>2</td>\n",
       "      <td>36</td>\n",
       "      <td>blue-collar</td>\n",
       "      <td>married</td>\n",
       "      <td>secondary</td>\n",
       "      <td>no</td>\n",
       "      <td>602</td>\n",
       "      <td>yes</td>\n",
       "      <td>no</td>\n",
       "      <td>unknown</td>\n",
       "      <td>14</td>\n",
       "      <td>may</td>\n",
       "      <td>111</td>\n",
       "      <td>2</td>\n",
       "      <td>-1</td>\n",
       "      <td>0</td>\n",
       "      <td>unknown</td>\n",
       "      <td>0</td>\n",
       "    </tr>\n",
       "    <tr>\n",
       "      <th>3</th>\n",
       "      <td>3</td>\n",
       "      <td>27</td>\n",
       "      <td>student</td>\n",
       "      <td>single</td>\n",
       "      <td>secondary</td>\n",
       "      <td>no</td>\n",
       "      <td>34</td>\n",
       "      <td>yes</td>\n",
       "      <td>no</td>\n",
       "      <td>unknown</td>\n",
       "      <td>28</td>\n",
       "      <td>may</td>\n",
       "      <td>10</td>\n",
       "      <td>2</td>\n",
       "      <td>-1</td>\n",
       "      <td>0</td>\n",
       "      <td>unknown</td>\n",
       "      <td>0</td>\n",
       "    </tr>\n",
       "    <tr>\n",
       "      <th>4</th>\n",
       "      <td>4</td>\n",
       "      <td>26</td>\n",
       "      <td>technician</td>\n",
       "      <td>married</td>\n",
       "      <td>secondary</td>\n",
       "      <td>no</td>\n",
       "      <td>889</td>\n",
       "      <td>yes</td>\n",
       "      <td>no</td>\n",
       "      <td>cellular</td>\n",
       "      <td>3</td>\n",
       "      <td>feb</td>\n",
       "      <td>902</td>\n",
       "      <td>1</td>\n",
       "      <td>-1</td>\n",
       "      <td>0</td>\n",
       "      <td>unknown</td>\n",
       "      <td>1</td>\n",
       "    </tr>\n",
       "  </tbody>\n",
       "</table>\n",
       "</div>"
      ],
      "text/plain": [
       "   id  age          job  marital  education default  balance housing loan  \\\n",
       "0   0   42   technician  married  secondary      no        7      no   no   \n",
       "1   1   38  blue-collar  married  secondary      no      514      no   no   \n",
       "2   2   36  blue-collar  married  secondary      no      602     yes   no   \n",
       "3   3   27      student   single  secondary      no       34     yes   no   \n",
       "4   4   26   technician  married  secondary      no      889     yes   no   \n",
       "\n",
       "    contact  day month  duration  campaign  pdays  previous poutcome  y  \n",
       "0  cellular   25   aug       117         3     -1         0  unknown  0  \n",
       "1   unknown   18   jun       185         1     -1         0  unknown  0  \n",
       "2   unknown   14   may       111         2     -1         0  unknown  0  \n",
       "3   unknown   28   may        10         2     -1         0  unknown  0  \n",
       "4  cellular    3   feb       902         1     -1         0  unknown  1  "
      ]
     },
     "execution_count": 6,
     "metadata": {},
     "output_type": "execute_result"
    }
   ],
   "source": [
    "data.head()"
   ]
  },
  {
   "cell_type": "code",
   "execution_count": 7,
   "id": "f6f144b8",
   "metadata": {},
   "outputs": [
    {
     "data": {
      "text/plain": [
       "(750000, 18)"
      ]
     },
     "execution_count": 7,
     "metadata": {},
     "output_type": "execute_result"
    }
   ],
   "source": [
    "data.shape"
   ]
  },
  {
   "cell_type": "code",
   "execution_count": 8,
   "id": "db451945",
   "metadata": {},
   "outputs": [
    {
     "data": {
      "text/plain": [
       "Index(['id', 'age', 'job', 'marital', 'education', 'default', 'balance',\n",
       "       'housing', 'loan', 'contact', 'day', 'month', 'duration', 'campaign',\n",
       "       'pdays', 'previous', 'poutcome', 'y'],\n",
       "      dtype='object')"
      ]
     },
     "execution_count": 8,
     "metadata": {},
     "output_type": "execute_result"
    }
   ],
   "source": [
    "data.columns"
   ]
  },
  {
   "cell_type": "markdown",
   "id": "45280721",
   "metadata": {},
   "source": [
    "## Feature Engineering"
   ]
  },
  {
   "cell_type": "markdown",
   "id": "59947ed8",
   "metadata": {},
   "source": [
    "#### 1. DURATION-BASED FEATURES (Most important for bank marketing datasets)"
   ]
  },
  {
   "cell_type": "code",
   "execution_count": 9,
   "id": "7cf50cf6",
   "metadata": {},
   "outputs": [
    {
     "name": "stdout",
     "output_type": "stream",
     "text": [
      "Processing train - Duration features...\n",
      " train duration features : (750000, 30)\n",
      "Processing test - Duration features...\n",
      " test duration features : (250000, 29)\n"
     ]
    }
   ],
   "source": [
    "for name, data in datasets.items():\n",
    "    print(f\"Processing {name} - Duration features...\")\n",
    "    \n",
    "    if 'duration' in data.columns:\n",
    "        # Mathematical transformations\n",
    "        data['duration_log'] = np.log1p(data['duration'])\n",
    "        data['duration_sqrt'] = np.sqrt(data['duration'])\n",
    "        data['duration_squared'] = data['duration'] ** 2\n",
    "        data['duration_zscore'] = stats.zscore(data['duration'])\n",
    "        \n",
    "        # Granular thresholds\n",
    "        data['micro_call'] = (data['duration'] <= 30).astype(int)\n",
    "        data['short_call'] = (data['duration'].between(31, 120)).astype(int)\n",
    "        data['medium_call'] = (data['duration'].between(121, 300)).astype(int)\n",
    "        data['long_call'] = (data['duration'].between(301, 600)).astype(int)\n",
    "        data['ultra_long_call'] = (data['duration'] > 600).astype(int)\n",
    "        \n",
    "        # Campaign interactions\n",
    "        if 'campaign' in data.columns:\n",
    "            data['duration_per_campaign'] = data['duration'] / (data['campaign'] + 1)\n",
    "            data['duration_campaign_ratio'] = data['duration'] / np.log1p(data['campaign'])\n",
    "            data['efficiency_score'] = data['duration'] * np.log1p(data['campaign'])\n",
    "        \n",
    "        print(f\" {name} duration features : {data.shape}\")\n",
    "\n",
    "# Update datasets\n",
    "train, test = datasets['train'], datasets['test']"
   ]
  },
  {
   "cell_type": "code",
   "execution_count": 10,
   "id": "aaf2e455",
   "metadata": {},
   "outputs": [
    {
     "data": {
      "text/plain": [
       "(250000, 29)"
      ]
     },
     "execution_count": 10,
     "metadata": {},
     "output_type": "execute_result"
    }
   ],
   "source": [
    "data.shape"
   ]
  },
  {
   "cell_type": "markdown",
   "id": "e66136b0",
   "metadata": {},
   "source": [
    "#### 2. CUSTOMER FINANCIAL PROFILE"
   ]
  },
  {
   "cell_type": "code",
   "execution_count": 11,
   "id": "9b1c428d",
   "metadata": {},
   "outputs": [
    {
     "name": "stdout",
     "output_type": "stream",
     "text": [
      "Processing train - Balance features...\n",
      "  train Customer Financial Profile features: (750000, 40)\n",
      "Processing test - Balance features...\n",
      "  test Customer Financial Profile features: (250000, 39)\n"
     ]
    }
   ],
   "source": [
    "for name, data in datasets.items():\n",
    "    print(f\"Processing {name} - Balance features...\")\n",
    "    \n",
    "    if 'balance' in data.columns:\n",
    "        # Advanced transformations\n",
    "        data['balance_log'] = np.sign(data['balance']) * np.log1p(np.abs(data['balance']))\n",
    "        data['balance_sqrt'] = np.sign(data['balance']) * np.sqrt(np.abs(data['balance']))\n",
    "        \n",
    "        # Extreme value indicators\n",
    "        data['balance_extreme_high'] = (data['balance'] > data['balance'].quantile(0.95)).astype(int)\n",
    "        data['balance_extreme_low'] = (data['balance'] < data['balance'].quantile(0.05)).astype(int)\n",
    "        data['negative_balance'] = (data['balance'] < 0).astype(int)\n",
    "        data['zero_balance'] = (data['balance'] == 0).astype(int)\n",
    "        data['positive_balance'] = (data['balance'] > 0).astype(int)\n",
    "        \n",
    "        # Age interactions\n",
    "        if 'age' in data.columns:\n",
    "            data['balance_per_age'] = data['balance'] / (data['age'] + 1)\n",
    "            data['wealth_maturity'] = data['balance'] * data['age'] / 10000\n",
    "            data['age_wealth_interaction'] = data['age'] * np.log1p(np.abs(data['balance']) + 1)\n",
    "        \n",
    "        print(f\"  {name} Customer Financial Profile features: {data.shape}\")\n",
    "\n",
    "# Update datasets\n",
    "train, test = datasets['train'], datasets['test']"
   ]
  },
  {
   "cell_type": "code",
   "execution_count": 12,
   "id": "d129186e",
   "metadata": {},
   "outputs": [
    {
     "data": {
      "text/plain": [
       "(250000, 39)"
      ]
     },
     "execution_count": 12,
     "metadata": {},
     "output_type": "execute_result"
    }
   ],
   "source": [
    "data.shape"
   ]
  },
  {
   "cell_type": "markdown",
   "id": "cfdfb2af",
   "metadata": {},
   "source": [
    "### 3. CAMPAIGN SOPHISTICATION"
   ]
  },
  {
   "cell_type": "code",
   "execution_count": 13,
   "id": "d2513297",
   "metadata": {},
   "outputs": [
    {
     "name": "stdout",
     "output_type": "stream",
     "text": [
      "Processing train - Campaign features...\n",
      "  train Campaign features: (750000, 46)\n",
      "Processing test - Campaign features...\n",
      "  test Campaign features: (250000, 45)\n"
     ]
    }
   ],
   "source": [
    "for name, data in datasets.items():\n",
    "    print(f\"Processing {name} - Campaign features...\")\n",
    "    \n",
    "    if 'campaign' in data.columns:\n",
    "        # Mathematical transformations\n",
    "        data['campaign_log'] = np.log1p(data['campaign'])\n",
    "        data['campaign_sqrt'] = np.sqrt(data['campaign'])\n",
    "        \n",
    "        # Granular campaign categorization\n",
    "        data['single_campaign'] = (data['campaign'] == 1).astype(int)\n",
    "        data['optimal_campaigns'] = (data['campaign'].between(2, 3)).astype(int)\n",
    "        data['moderate_campaigns'] = (data['campaign'].between(4, 6)).astype(int)\n",
    "        data['excessive_campaigns'] = (data['campaign'] > 6).astype(int)\n",
    "        \n",
    "        # If you have duration data, add these critical interactions:\n",
    "        if 'duration' in data.columns:\n",
    "            data['duration_per_campaign'] = data['duration'] / (data['campaign'] + 1)\n",
    "            data['efficiency_score'] = data['duration'] * np.log1p(data['campaign'])\n",
    "        \n",
    "        print(f\"  {name} Campaign features: {data.shape}\")\n",
    "\n",
    "# Update datasets\n",
    "train, test = datasets['train'], datasets['test']"
   ]
  },
  {
   "cell_type": "code",
   "execution_count": 14,
   "id": "7cc5156b",
   "metadata": {},
   "outputs": [
    {
     "data": {
      "text/plain": [
       "(250000, 45)"
      ]
     },
     "execution_count": 14,
     "metadata": {},
     "output_type": "execute_result"
    }
   ],
   "source": [
    "data.shape"
   ]
  },
  {
   "cell_type": "markdown",
   "id": "2320dfec",
   "metadata": {},
   "source": [
    "### 4. AGE INTELLIGENCE"
   ]
  },
  {
   "cell_type": "code",
   "execution_count": 15,
   "id": "0afad743",
   "metadata": {},
   "outputs": [
    {
     "name": "stdout",
     "output_type": "stream",
     "text": [
      "Processing train - Age features...\n",
      "  train Age Intelligence features: (750000, 56)\n",
      "Processing test - Age features...\n",
      "  test Age Intelligence features: (250000, 55)\n"
     ]
    }
   ],
   "source": [
    "for name, data in datasets.items():\n",
    "    print(f\"Processing {name} - Age features...\")\n",
    "    \n",
    "    if 'age' in data.columns:\n",
    "        # Non-linear transformations\n",
    "        data['age_log'] = np.log1p(data['age'])\n",
    "        data['age_sqrt'] = np.sqrt(data['age'])\n",
    "        data['age_squared'] = data['age'] ** 2\n",
    "        \n",
    "        # Life stage precision\n",
    "        data['teenager'] = (data['age'] < 20).astype(int)\n",
    "        data['young_adult'] = (data['age'].between(20, 25)).astype(int)\n",
    "        data['young_professional'] = (data['age'].between(26, 35)).astype(int)\n",
    "        data['established_career'] = (data['age'].between(36, 45)).astype(int)\n",
    "        data['senior_career'] = (data['age'].between(46, 55)).astype(int)\n",
    "        data['pre_retirement'] = (data['age'].between(56, 65)).astype(int)\n",
    "        data['retirement_age'] = (data['age'] > 65).astype(int)\n",
    "        \n",
    "        print(f\"  {name} Age Intelligence features: {data.shape}\")\n",
    "\n",
    "# Update datasets\n",
    "train, test = datasets['train'], datasets['test']"
   ]
  },
  {
   "cell_type": "code",
   "execution_count": 16,
   "id": "8ae757b5",
   "metadata": {},
   "outputs": [
    {
     "data": {
      "text/plain": [
       "(250000, 55)"
      ]
     },
     "execution_count": 16,
     "metadata": {},
     "output_type": "execute_result"
    }
   ],
   "source": [
    "data.shape"
   ]
  },
  {
   "cell_type": "markdown",
   "id": "6eadb5c7",
   "metadata": {},
   "source": [
    "### 5. Monthly Time period Intelligence"
   ]
  },
  {
   "cell_type": "code",
   "execution_count": 17,
   "id": "a897dcbc",
   "metadata": {},
   "outputs": [
    {
     "name": "stdout",
     "output_type": "stream",
     "text": [
      "Processing train - Mothly Time Period features...\n",
      "Temporal intelligence features created\n",
      "  train Monthly time period features: (750000, 64)\n",
      "Processing test - Mothly Time Period features...\n",
      "Temporal intelligence features created\n",
      "  test Monthly time period features: (250000, 63)\n"
     ]
    }
   ],
   "source": [
    "for name, data in datasets.items():\n",
    "    print(f\"Processing {name} - Mothly Time Period features...\")\n",
    "\n",
    "    if 'day' in data.columns:\n",
    "        # Mathematical transformation\n",
    "        data['day_log'] = np.log1p(data['day'])\n",
    "        \n",
    "        # Temporal segmentation\n",
    "        data['early_month'] = (data['day'] <= 7).astype(int)\n",
    "        data['mid_month'] = (data['day'].between(8, 23)).astype(int)\n",
    "        data['late_month'] = (data['day'] >= 24).astype(int)\n",
    "        \n",
    "        print(\"Temporal intelligence features created\")\n",
    "        \n",
    "    # If you have 'month' data, add seasonal features:\n",
    "    if 'month' in data.columns:\n",
    "        data['q1_month'] = (data['month'].isin([1, 2, 3])).astype(int)  # New year\n",
    "        data['q2_month'] = (data['month'].isin([4, 5, 6])).astype(int)  # Spring\n",
    "        data['q3_month'] = (data['month'].isin([7, 8, 9])).astype(int)  # Summer\n",
    "        data['q4_month'] = (data['month'].isin([10, 11, 12])).astype(int) # Holiday season\n",
    "        \n",
    "        print(f\"  {name} Monthly time period features: {data.shape}\")\n",
    "        \n",
    "# Update datasets\n",
    "train, test = datasets['train'], datasets['test']        "
   ]
  },
  {
   "cell_type": "code",
   "execution_count": 18,
   "id": "b7a8c23a",
   "metadata": {},
   "outputs": [
    {
     "data": {
      "text/plain": [
       "(250000, 63)"
      ]
     },
     "execution_count": 18,
     "metadata": {},
     "output_type": "execute_result"
    }
   ],
   "source": [
    "data.shape"
   ]
  },
  {
   "cell_type": "markdown",
   "id": "88b11fb6",
   "metadata": {},
   "source": [
    "### 6. SEASONAL & MONTHLY SOPHISTICATION"
   ]
  },
  {
   "cell_type": "code",
   "execution_count": 19,
   "id": "746ac132",
   "metadata": {},
   "outputs": [
    {
     "name": "stdout",
     "output_type": "stream",
     "text": [
      "Processing train - Season & Mothly features...\n",
      "  train Seasonal & Monthly features: (750000, 64)\n",
      "Enhanced seasonal features created\n",
      "Processing test - Season & Mothly features...\n",
      "  test Seasonal & Monthly features: (250000, 63)\n",
      "Enhanced seasonal features created\n"
     ]
    }
   ],
   "source": [
    "for name, data in datasets.items():\n",
    "    print(f\"Processing {name} - Season & Mothly features...\")\n",
    "\n",
    "    month_cols = [col for col in data.columns if col.startswith('month')]\n",
    "    if month_cols:\n",
    "        # Complete meteorological seasons\n",
    "        seasons = {\n",
    "            'winter': ['month_dec', 'month_jan', 'month_feb'],\n",
    "            'spring': ['month_mar', 'month_apr', 'month_may'], \n",
    "            'summer': ['month_jun', 'month_jul', 'month_aug'],  # Include August\n",
    "            'fall': ['month_sep', 'month_oct', 'month_nov']\n",
    "        }\n",
    "        \n",
    "        for season, months in seasons.items():\n",
    "            available = [m for m in months if m in data.columns]\n",
    "            if available:\n",
    "                data[f'season_{season}'] = data[available].sum(axis=1)\n",
    "        \n",
    "        # Data-driven high-performance months (use the original insight)\n",
    "        high_perf_months = ['month_may', 'month_jun', 'month_nov', 'month_dec']\n",
    "        available_high_perf = [m for m in high_perf_months if m in data.columns]\n",
    "        if available_high_perf:\n",
    "            data['high_performance_month'] = data[available_high_perf].sum(axis=1)\n",
    "            \n",
    "        print(f\"  {name} Seasonal & Monthly features: {data.shape}\")\n",
    "        \n",
    "        print(\"Enhanced seasonal features created\")\n",
    "        \n",
    "# Update datasets\n",
    "train, test = datasets['train'], datasets['test']         "
   ]
  },
  {
   "cell_type": "code",
   "execution_count": 20,
   "id": "9f3c5595",
   "metadata": {},
   "outputs": [
    {
     "data": {
      "text/plain": [
       "(250000, 63)"
      ]
     },
     "execution_count": 20,
     "metadata": {},
     "output_type": "execute_result"
    }
   ],
   "source": [
    "data.shape"
   ]
  },
  {
   "cell_type": "markdown",
   "id": "d58a0606",
   "metadata": {},
   "source": [
    "### 7. LOAN RISK COMBINATIONS"
   ]
  },
  {
   "cell_type": "code",
   "execution_count": 21,
   "id": "8daf04d2",
   "metadata": {},
   "outputs": [
    {
     "name": "stdout",
     "output_type": "stream",
     "text": [
      "Processing train - Loan Risk features...\n",
      "Creating risk features from: ['default', 'housing', 'loan']\n",
      "Enhanced risk profiling features created\n",
      "  train Loan and Risk assesment features: (750000, 73)\n",
      "Processing test - Loan Risk features...\n",
      "Creating risk features from: ['default', 'housing', 'loan']\n",
      "Enhanced risk profiling features created\n",
      "  test Loan and Risk assesment features: (250000, 72)\n"
     ]
    }
   ],
   "source": [
    "for name, data in datasets.items():\n",
    "    print(f\"Processing {name} - Loan Risk features...\")\n",
    "    \n",
    "    # Binary yes/no → 0/1\n",
    "    binary_cols = ['loan', 'housing', 'default']\n",
    "    for col in binary_cols:\n",
    "        if col in data.columns:\n",
    "            data[col] = data[col].map({'yes': 1, 'no': 0})\n",
    "\n",
    "    # Robust risk profiling\n",
    "    risk_cols = ['default', 'housing', 'loan']\n",
    "    available_risk = [col for col in risk_cols if col in data.columns]\n",
    "\n",
    "    if len(available_risk) >= 2:\n",
    "        print(f\"Creating risk features from: {available_risk}\")\n",
    "        \n",
    "        # Comprehensive risk scoring\n",
    "        data['total_risk_score'] = data[available_risk].sum(axis=1)\n",
    "        data['risk_free'] = (data[available_risk].sum(axis=1) == 0).astype(int)\n",
    "        data['single_risk'] = (data[available_risk].sum(axis=1) == 1).astype(int)\n",
    "        data['multiple_risks'] = (data[available_risk].sum(axis=1) >= 2).astype(int)\n",
    "        \n",
    "        # Your financial burden features (keep these!)\n",
    "        if 'housing' in data.columns and 'loan' in data.columns:\n",
    "            data['total_financial_burden'] = data['housing'] + data['loan']\n",
    "            data['debt_free'] = ((data['housing'] == 0) & (data['loan'] == 0)).astype(int)\n",
    "            \n",
    "            # Add the missing combination features\n",
    "            data['housing_loan_combo'] = data['housing'] * data['loan']  # Interaction\n",
    "            data['any_loan'] = ((data['housing'] == 1) | (data['loan'] == 1)).astype(int)  # OR logic\n",
    "        \n",
    "        # Enhanced risk categorization\n",
    "        risk_conditions = data[available_risk].sum(axis=1)\n",
    "        data['high_risk_customer'] = (risk_conditions >= 2).astype(int)  # Multiple risks = high risk\n",
    "        \n",
    "        print(\"Enhanced risk profiling features created\")\n",
    "    else:\n",
    "        print(\"Insufficient risk columns available for profiling\")\n",
    "        \n",
    "    print(f\"  {name} Loan and Risk assesment features: {data.shape}\")\n",
    "        \n",
    "# Update datasets\n",
    "train, test = datasets['train'], datasets['test'] "
   ]
  },
  {
   "cell_type": "markdown",
   "id": "373403d3",
   "metadata": {},
   "source": [
    "### 8. INTERACTION FEATURES"
   ]
  },
  {
   "cell_type": "code",
   "execution_count": 22,
   "id": "7641460a",
   "metadata": {},
   "outputs": [
    {
     "name": "stdout",
     "output_type": "stream",
     "text": [
      "Processing train - Loan Risk features...\n",
      "Enhanced interaction features created\n",
      "  train age features: (750000, 82)\n",
      "Processing test - Loan Risk features...\n",
      "Enhanced interaction features created\n",
      "  test age features: (250000, 81)\n"
     ]
    }
   ],
   "source": [
    "for name, data in datasets.items():\n",
    "    print(f\"Processing {name} - Loan Risk features...\")\n",
    "\n",
    "    # High-value interactions\n",
    "    if 'duration' in data.columns and 'balance' in data.columns:\n",
    "        data['duration_balance_mult'] = data['duration'] * np.log1p(np.abs(data['balance']) + 1)\n",
    "        data['duration_balance_ratio'] = data['duration'] / (np.abs(data['balance']) + 1)  # ADD\n",
    "\n",
    "    if 'age' in data.columns and 'duration' in data.columns:\n",
    "        data['age_duration_interaction'] = data['age'] * data['duration'] / 1000  # ADD\n",
    "        data['maturity_call_score'] = (data['age'] / 10) * np.log1p(data['duration'])  # ADD\n",
    "\n",
    "    if 'campaign' in data.columns and 'duration' in data.columns:\n",
    "        data['campaign_efficiency'] = data['duration'] / (data['campaign'] ** 2 + 1)  # ADD\n",
    "        data['persistence_score'] = data['campaign'] * np.log1p(data['duration'])  # ADD\n",
    "\n",
    "    # Your existing interactions (keep these)\n",
    "    if 'duration' in data.columns and 'balance' in data.columns:\n",
    "        data['duration_balance_interaction'] = data['duration'] * np.log1p(np.abs(data['balance']) + 1)\n",
    "\n",
    "    if 'duration' in data.columns and 'campaign' in data.columns:\n",
    "        data['efficiency_score'] = data['duration'] / (data['campaign'] + 1)\n",
    "\n",
    "    if 'age' in data.columns and 'balance' in data.columns:\n",
    "        data['financial_maturity'] = (data['age'] * np.log1p(np.abs(data['balance']) + 1)) / 100\n",
    "\n",
    "    # Triple interactions (ESSENTIAL!)\n",
    "    if all(col in data.columns for col in ['age', 'balance', 'duration']):\n",
    "        data['age_balance_duration'] = (data['age'] * np.log1p(np.abs(data['balance']) + 1) * \n",
    "                                    np.log1p(data['duration'])) / 10000  # ADD\n",
    "\n",
    "    print(\"Enhanced interaction features created\")\n",
    "    \n",
    "    print(f\"  {name} age features: {data.shape}\")\n",
    "    \n",
    "# Apply feature engineering to train and test sets\n",
    "train, test = datasets['train'], datasets['test'] "
   ]
  },
  {
   "cell_type": "markdown",
   "id": "988f2072",
   "metadata": {},
   "source": [
    "#### Use only featured Columns for training "
   ]
  },
  {
   "cell_type": "code",
   "execution_count": 23,
   "id": "4e483b60",
   "metadata": {},
   "outputs": [
    {
     "data": {
      "text/plain": [
       "(750000, 82)"
      ]
     },
     "execution_count": 23,
     "metadata": {},
     "output_type": "execute_result"
    }
   ],
   "source": [
    "train.shape"
   ]
  },
  {
   "cell_type": "code",
   "execution_count": 24,
   "id": "11ee4682",
   "metadata": {},
   "outputs": [],
   "source": [
    "data = train[['duration_log', 'duration_sqrt', 'duration_squared', 'duration_zscore', 'micro_call', 'short_call', 'medium_call', 'long_call', 'ultra_long_call', 'duration_per_campaign', 'duration_campaign_ratio', 'efficiency_score', 'balance_log', 'balance_sqrt', 'balance_extreme_high', 'balance_extreme_low', 'negative_balance', 'zero_balance', 'positive_balance', 'balance_per_age', 'wealth_maturity', 'age_wealth_interaction', 'campaign_log', 'campaign_sqrt', 'single_campaign', 'optimal_campaigns', 'moderate_campaigns', 'excessive_campaigns', 'age_log', 'age_sqrt', 'age_squared', 'teenager', 'young_adult', 'young_professional', 'established_career', 'senior_career', 'pre_retirement', 'retirement_age', 'day_log', 'early_month', 'mid_month', 'late_month', 'q1_month', 'q2_month', 'q3_month', 'q4_month', 'total_risk_score', 'risk_free', 'single_risk', 'multiple_risks', 'total_financial_burden', 'debt_free', 'housing_loan_combo', 'any_loan', 'high_risk_customer', 'duration_balance_mult', 'duration_balance_ratio', 'age_duration_interaction', 'maturity_call_score', 'campaign_efficiency', 'persistence_score', 'duration_balance_interaction', 'financial_maturity','age_balance_duration']].copy()"
   ]
  },
  {
   "cell_type": "code",
   "execution_count": 25,
   "id": "71586517",
   "metadata": {},
   "outputs": [],
   "source": [
    "data1 = test[['duration_log', 'duration_sqrt', 'duration_squared', 'duration_zscore', 'micro_call', 'short_call', 'medium_call', 'long_call', 'ultra_long_call', 'duration_per_campaign', 'duration_campaign_ratio', 'efficiency_score', 'balance_log', 'balance_sqrt', 'balance_extreme_high', 'balance_extreme_low', 'negative_balance', 'zero_balance', 'positive_balance', 'balance_per_age', 'wealth_maturity', 'age_wealth_interaction', 'campaign_log', 'campaign_sqrt', 'single_campaign', 'optimal_campaigns', 'moderate_campaigns', 'excessive_campaigns', 'age_log', 'age_sqrt', 'age_squared', 'teenager', 'young_adult', 'young_professional', 'established_career', 'senior_career', 'pre_retirement', 'retirement_age', 'day_log', 'early_month', 'mid_month', 'late_month', 'q1_month', 'q2_month', 'q3_month', 'q4_month', 'total_risk_score', 'risk_free', 'single_risk', 'multiple_risks', 'total_financial_burden', 'debt_free', 'housing_loan_combo', 'any_loan', 'high_risk_customer', 'duration_balance_mult', 'duration_balance_ratio', 'age_duration_interaction', 'maturity_call_score', 'campaign_efficiency', 'persistence_score', 'duration_balance_interaction', 'financial_maturity','age_balance_duration']].copy()"
   ]
  },
  {
   "cell_type": "markdown",
   "id": "4b862ef8",
   "metadata": {},
   "source": [
    "### APPLY FEATURE ENGINEERING"
   ]
  },
  {
   "cell_type": "code",
   "execution_count": 26,
   "id": "af66a8dc",
   "metadata": {},
   "outputs": [
    {
     "name": "stdout",
     "output_type": "stream",
     "text": [
      "Applying feature engineering to training data...\n",
      "Applying feature engineering to test data...\n"
     ]
    }
   ],
   "source": [
    "print(\"Applying feature engineering to training data...\")\n",
    "train_engineered = data.copy()   # Your processed training data\n",
    "\n",
    "print(\"Applying feature engineering to test data...\")\n",
    "test_engineered = data1.copy()   # Your processed test data"
   ]
  },
  {
   "cell_type": "code",
   "execution_count": 27,
   "id": "7aefe874",
   "metadata": {},
   "outputs": [
    {
     "name": "stdout",
     "output_type": "stream",
     "text": [
      "✅ Common features: 64\n"
     ]
    }
   ],
   "source": [
    "# Verify consistency\n",
    "common_features = set(train_engineered.columns) & set(test_engineered.columns)\n",
    "print(f\"✅ Common features: {len(common_features)}\")\n",
    "\n",
    "# Remove any dataset-specific columns\n",
    "train_final = train_engineered[sorted(common_features)]\n",
    "test_final = test_engineered[sorted(common_features)]"
   ]
  },
  {
   "cell_type": "markdown",
   "id": "511b60b3",
   "metadata": {},
   "source": [
    "### Method 1: XGBoost importance"
   ]
  },
  {
   "cell_type": "code",
   "execution_count": 28,
   "id": "9ab32d46",
   "metadata": {},
   "outputs": [],
   "source": [
    "X_train_full = train_final\n",
    "y_train_full = train['y']"
   ]
  },
  {
   "cell_type": "code",
   "execution_count": 29,
   "id": "c8b70758",
   "metadata": {},
   "outputs": [
    {
     "data": {
      "text/plain": [
       "<bound method DataFrame.value_counts of         age_balance_duration  age_duration_interaction   age_log  age_sqrt  \\\n",
       "0                   0.044026                     4.914  3.761200  6.480741   \n",
       "1                   0.124034                     7.030  3.663562  6.164414   \n",
       "2                   0.108775                     3.996  3.610918  6.000000   \n",
       "3                   0.023201                     0.270  3.332205  5.196152   \n",
       "4                   0.120190                    23.452  3.295837  5.099020   \n",
       "...                      ...                       ...       ...       ...   \n",
       "749995              0.143532                    29.174  3.401197  5.385165   \n",
       "749996              0.199278                     6.003  4.248495  8.306624   \n",
       "749997              0.127619                     5.650  3.931826  7.071068   \n",
       "749998              0.084375                     3.456  3.496508  5.656854   \n",
       "749999              0.153482                     6.006  3.761200  6.480741   \n",
       "\n",
       "        age_squared  age_wealth_interaction  any_loan  balance_extreme_high  \\\n",
       "0              1764               92.283432         0                     0   \n",
       "1              1444              237.352057         0                     0   \n",
       "2              1296              230.528671         1                     0   \n",
       "3               729               96.755011         1                     0   \n",
       "4               676              176.600955         1                     0   \n",
       "...             ...                     ...       ...                   ...   \n",
       "749995          841              207.574329         1                     0   \n",
       "749996         4761              445.082459         0                     0   \n",
       "749997         2500              269.453586         1                     0   \n",
       "749998         1024              179.852828         0                     0   \n",
       "749999         1764              308.829441         0                     0   \n",
       "\n",
       "        balance_extreme_low  balance_log  ...  single_campaign  single_risk  \\\n",
       "0                         0     2.079442  ...                0            0   \n",
       "1                         0     6.244167  ...                1            0   \n",
       "2                         0     6.401917  ...                0            1   \n",
       "3                         0     3.555348  ...                0            1   \n",
       "4                         0     6.791221  ...                1            1   \n",
       "...                     ...          ...  ...              ...          ...   \n",
       "749995                    0     7.156956  ...                0            1   \n",
       "749996                    0     6.448889  ...                1            0   \n",
       "749997                    0     5.384495  ...                1            1   \n",
       "749998                    0    -5.616771  ...                0            0   \n",
       "749999                    0     7.352441  ...                1            0   \n",
       "\n",
       "        teenager  total_financial_burden  total_risk_score  ultra_long_call  \\\n",
       "0              0                       0                 0                0   \n",
       "1              0                       0                 0                0   \n",
       "2              0                       1                 1                0   \n",
       "3              0                       1                 1                0   \n",
       "4              0                       1                 1                1   \n",
       "...          ...                     ...               ...              ...   \n",
       "749995         0                       1                 1                1   \n",
       "749996         0                       0                 0                0   \n",
       "749997         0                       1                 1                0   \n",
       "749998         0                       0                 0                0   \n",
       "749999         0                       0                 0                0   \n",
       "\n",
       "        wealth_maturity  young_adult  young_professional  zero_balance  \n",
       "0                0.0294            0                   0             0  \n",
       "1                1.9532            0                   0             0  \n",
       "2                2.1672            0                   0             0  \n",
       "3                0.0918            0                   1             0  \n",
       "4                2.3114            0                   1             0  \n",
       "...                 ...          ...                 ...           ...  \n",
       "749995           3.7178            0                   1             0  \n",
       "749996           4.3539            0                   0             0  \n",
       "749997           1.0850            0                   0             0  \n",
       "749998          -0.8768            0                   1             0  \n",
       "749999           6.5478            0                   0             0  \n",
       "\n",
       "[750000 rows x 64 columns]>"
      ]
     },
     "execution_count": 29,
     "metadata": {},
     "output_type": "execute_result"
    }
   ],
   "source": [
    "X_train_full.value_counts"
   ]
  },
  {
   "cell_type": "code",
   "execution_count": 30,
   "id": "5d86c851",
   "metadata": {},
   "outputs": [],
   "source": [
    "# Assuming you have X_train_full and y_train_full from previous steps\n",
    "xgb_selector = XGBClassifier(\n",
    "    n_estimators=3000, \n",
    "    max_depth=6, \n",
    "    learning_rate=0.02, \n",
    "    random_state=42, \n",
    "    verbosity=0\n",
    ")"
   ]
  },
  {
   "cell_type": "code",
   "execution_count": 31,
   "id": "8214694e",
   "metadata": {},
   "outputs": [],
   "source": [
    "# Use the correct variable names\n",
    "xgb_selector.fit(X_train_full, y_train_full)  # Not X, y\n",
    "\n",
    "# Get feature names from your training data\n",
    "feature_names = X_train_full.columns.tolist()\n",
    "\n",
    "# Create importance dataframe\n",
    "xgb_scores = pd.DataFrame({\n",
    "    'feature': feature_names, \n",
    "    'xgb_importance': xgb_selector.feature_importances_\n",
    "})"
   ]
  },
  {
   "cell_type": "code",
   "execution_count": 32,
   "id": "de345969",
   "metadata": {},
   "outputs": [],
   "source": [
    "# Sort features by importance\n",
    "xgb_scores = xgb_scores.sort_values('xgb_importance', ascending=False)"
   ]
  },
  {
   "cell_type": "code",
   "execution_count": 33,
   "id": "bcccdeee",
   "metadata": {},
   "outputs": [
    {
     "data": {
      "image/png": "[encoded data removed]",
      "text/plain": [
       "<Figure size 1000x800 with 1 Axes>"
      ]
     },
     "metadata": {},
     "output_type": "display_data"
    }
   ],
   "source": [
    "# Assuming you have xgb_scores DataFrame from your code\n",
    "plt.figure(figsize=(10, 8))\n",
    "sns.barplot(data=xgb_scores.head(20), x='xgb_importance', y='feature', palette='viridis')\n",
    "plt.title('Top 15 Feature Importances (XGBoost)', fontsize=12)\n",
    "plt.xlabel('Importance Score')\n",
    "plt.ylabel('Features')\n",
    "plt.tight_layout()\n",
    "plt.show()"
   ]
  },
  {
   "cell_type": "markdown",
   "id": "23c15cd4",
   "metadata": {},
   "source": [
    "### Method 2: Mutual Information"
   ]
  },
  {
   "cell_type": "code",
   "execution_count": 34,
   "id": "e63385ea",
   "metadata": {},
   "outputs": [],
   "source": [
    "mi_scores = mutual_info_classif(X_train_full, y_train_full, random_state=42)\n",
    "mi_df = pd.DataFrame({'feature': feature_names, 'mutual_info': mi_scores})"
   ]
  },
  {
   "cell_type": "markdown",
   "id": "0c0f5b02",
   "metadata": {},
   "source": [
    "### Method 3: Correlation analysis"
   ]
  },
  {
   "cell_type": "code",
   "execution_count": 35,
   "id": "a7d2efa6",
   "metadata": {},
   "outputs": [],
   "source": [
    "# 3. Correlation (your improved version)\n",
    "correlations = []\n",
    "for col in X_train_full.columns:\n",
    "    try:\n",
    "        corr = np.corrcoef(X_train_full[col].astype(float), y_train_full.astype(float))[0, 1]\n",
    "        correlations.append(abs(corr) if not np.isnan(corr) else 0)\n",
    "    except:\n",
    "        correlations.append(0)\n",
    "\n",
    "corr_df = pd.DataFrame({\n",
    "    'feature': X_train_full.columns,\n",
    "    'correlation': correlations\n",
    "})"
   ]
  },
  {
   "cell_type": "markdown",
   "id": "759f629e",
   "metadata": {},
   "source": [
    "### Method 4: Esemble Combining"
   ]
  },
  {
   "cell_type": "code",
   "execution_count": 36,
   "id": "4b8ae225",
   "metadata": {},
   "outputs": [],
   "source": [
    "# Combine all methods\n",
    "combined_scores = xgb_scores.merge(mi_df, on='feature').merge(corr_df, on='feature')\n",
    "\n",
    "# Normalize scores to 0-1 range\n",
    "for col in ['xgb_importance', 'mutual_info', 'correlation']:\n",
    "    combined_scores[f'{col}_norm'] = (combined_scores[col] - combined_scores[col].min()) / (combined_scores[col].max() - combined_scores[col].min() + 1e-8)\n",
    "\n",
    "# Weighted ensemble score\n",
    "combined_scores['ensemble_score'] = (\n",
    "    0.5 * combined_scores['xgb_importance_norm'] +\n",
    "    0.3 * combined_scores['mutual_info_norm'] +\n",
    "    0.2 * combined_scores['correlation_norm']\n",
    ")"
   ]
  },
  {
   "cell_type": "code",
   "execution_count": 37,
   "id": "150c673a",
   "metadata": {},
   "outputs": [],
   "source": [
    "# Sort by ensemble score\n",
    "combined_scores = combined_scores.sort_values('ensemble_score', ascending=False)"
   ]
  },
  {
   "cell_type": "code",
   "execution_count": 38,
   "id": "e8ec3bdc",
   "metadata": {},
   "outputs": [
    {
     "name": "stdout",
     "output_type": "stream",
     "text": [
      "Top 10 features by ensemble score:\n",
      "                         feature  xgb_importance  mutual_info  correlation  \\\n",
      "1                   duration_log        0.277439     0.155026     0.435684   \n",
      "0                      risk_free        0.351594     0.068782     0.177193   \n",
      "9        duration_campaign_ratio        0.011180     0.152261     0.507792   \n",
      "4   duration_balance_interaction        0.023213     0.142213     0.506837   \n",
      "49               duration_zscore        0.000000     0.154881     0.519283   \n",
      "44                 duration_sqrt        0.000000     0.154833     0.505944   \n",
      "11         duration_per_campaign        0.010147     0.145651     0.504243   \n",
      "59              efficiency_score        0.000000     0.146039     0.504243   \n",
      "43         duration_balance_mult        0.000000     0.142297     0.506837   \n",
      "47              duration_squared        0.000000     0.154109     0.441016   \n",
      "\n",
      "    ensemble_score  \n",
      "1         0.862347  \n",
      "0         0.701292  \n",
      "9         0.506119  \n",
      "4         0.503412  \n",
      "49        0.499719  \n",
      "44        0.494489  \n",
      "11        0.490488  \n",
      "59        0.476810  \n",
      "43        0.470565  \n",
      "47        0.468080  \n"
     ]
    }
   ],
   "source": [
    "print(\"Top 10 features by ensemble score:\")\n",
    "print(combined_scores[['feature', 'xgb_importance', 'mutual_info', 'correlation', 'ensemble_score']].head(10))"
   ]
  },
  {
   "cell_type": "code",
   "execution_count": 39,
   "id": "6b611610",
   "metadata": {},
   "outputs": [
    {
     "data": {
      "application/vnd.plotly.v1+json": {
       "config": {
        "plotlyServerURL": "https://plot.ly"
       },
       "data": [
        {
         "name": "Ensemble Score",
         "orientation": "h",
         "type": "bar",
         "x": {
          "bdata": "0GLCxVmY6z/wxOtr+3DmP4UjCnogMuA/7yyplvMb4D+yeEK/Y/vfP2NLDJGzpd8/8q51mChk3z+Gmk5JDITeP6iZC6W8Hd4//lD62QP13T+2oYJDfXjdP3KtGdRVPN0/FBFsRtFr2T/4xV3lX4vWP46vFLLXitU/8Uc/jMo51D+kLKiEMuTTP2ILSjPVydM/4ErTdPJU0T8wzcb2N3fMPw==",
          "dtype": "f8"
         },
         "xaxis": "x",
         "y": [
          "duration_log",
          "risk_free",
          "duration_campaign_ratio",
          "duration_balance_interaction",
          "duration_zscore",
          "duration_sqrt",
          "duration_per_campaign",
          "efficiency_score",
          "duration_balance_mult",
          "duration_squared",
          "age_duration_interaction",
          "campaign_efficiency",
          "maturity_call_score",
          "any_loan",
          "short_call",
          "positive_balance",
          "ultra_long_call",
          "persistence_score",
          "single_risk",
          "balance_log"
         ],
         "yaxis": "y"
        },
        {
         "name": "XGBoost",
         "type": "bar",
         "x": [
          "duration_log",
          "risk_free",
          "duration_campaign_ratio",
          "duration_balance_interaction",
          "duration_zscore",
          "duration_sqrt",
          "duration_per_campaign",
          "efficiency_score",
          "duration_balance_mult",
          "duration_squared",
          "age_duration_interaction",
          "campaign_efficiency",
          "maturity_call_score",
          "any_loan",
          "short_call"
         ],
         "xaxis": "x2",
         "y": {
          "bdata": "2wFKPwAAgD/2PQI9AzaHPQAAAAAAAAAAU2nsPAAAAAAAAAAAAAAAAI7tRTx7vPI8KWWIPBcQbD0Dy1s8",
          "dtype": "f4"
         },
         "yaxis": "y2"
        },
        {
         "name": "Mutual Info",
         "type": "bar",
         "x": [
          "duration_log",
          "risk_free",
          "duration_campaign_ratio",
          "duration_balance_interaction",
          "duration_zscore",
          "duration_sqrt",
          "duration_per_campaign",
          "efficiency_score",
          "duration_balance_mult",
          "duration_squared",
          "age_duration_interaction",
          "campaign_efficiency",
          "maturity_call_score",
          "any_loan",
          "short_call"
         ],
         "xaxis": "x2",
         "y": {
          "bdata": "fGpb3f//7z+XLB6RG2LcP/xpckvMbe8/MJWjCqla7T+yQVPwUPjvP8bWRe/J9e8/OD8qx2wQ7j8vHeki7STuP9ZU2JAfX+0/uIpYeH7P7z82BYe8blvsP00AAmNsJe0/JHt9iUr87T85qxG6VVLrP9IaFfEwBug/",
          "dtype": "f8"
         },
         "yaxis": "y2"
        },
        {
         "name": "Correlation",
         "type": "bar",
         "x": [
          "duration_log",
          "risk_free",
          "duration_campaign_ratio",
          "duration_balance_interaction",
          "duration_zscore",
          "duration_sqrt",
          "duration_per_campaign",
          "efficiency_score",
          "duration_balance_mult",
          "duration_squared",
          "age_duration_interaction",
          "campaign_efficiency",
          "maturity_call_score",
          "any_loan",
          "short_call"
         ],
         "xaxis": "x2",
         "y": {
          "bdata": "Ws7CoCzZ6j99bojdqNbVP58SByO6Su8/44BYQ6g77z8wS6n1///vP0/6tQOSLe8/itbmArsS7z+K1uYCuxLvP+OAWEOoO+8/Zvps7Est6z92DHwcqizuPysxPcrc/+o//vFRex4+4T8v3J9mPYnVP6kO1A8Uv+A/",
          "dtype": "f8"
         },
         "yaxis": "y2"
        }
       ],
       "layout": {
        "annotations": [
         {
          "font": {
           "size": 16
          },
          "showarrow": false,
          "text": "Top 20 Features - Ensemble Score",
          "x": 0.225,
          "xanchor": "center",
          "xref": "paper",
          "y": 1,
          "yanchor": "bottom",
          "yref": "paper"
         },
         {
          "font": {
           "size": 16
          },
          "showarrow": false,
          "text": "Method Comparison",
          "x": 0.775,
          "xanchor": "center",
          "xref": "paper",
          "y": 1,
          "yanchor": "bottom",
          "yref": "paper"
         }
        ],
        "height": 600,
        "showlegend": true,
        "template": {
         "data": {
          "bar": [
           {
            "error_x": {
             "color": "#2a3f5f"
            },
            "error_y": {
             "color": "#2a3f5f"
            },
            "marker": {
             "line": {
              "color": "#E5ECF6",
              "width": 0.5
             },
             "pattern": {
              "fillmode": "overlay",
              "size": 10,
              "solidity": 0.2
             }
            },
            "type": "bar"
           }
          ],
          "barpolar": [
           {
            "marker": {
             "line": {
              "color": "#E5ECF6",
              "width": 0.5
             },
             "pattern": {
              "fillmode": "overlay",
              "size": 10,
              "solidity": 0.2
             }
            },
            "type": "barpolar"
           }
          ],
          "carpet": [
           {
            "aaxis": {
             "endlinecolor": "#2a3f5f",
             "gridcolor": "white",
             "linecolor": "white",
             "minorgridcolor": "white",
             "startlinecolor": "#2a3f5f"
            },
            "baxis": {
             "endlinecolor": "#2a3f5f",
             "gridcolor": "white",
             "linecolor": "white",
             "minorgridcolor": "white",
             "startlinecolor": "#2a3f5f"
            },
            "type": "carpet"
           }
          ],
          "choropleth": [
           {
            "colorbar": {
             "outlinewidth": 0,
             "ticks": ""
            },
            "type": "choropleth"
           }
          ],
          "contour": [
           {
            "colorbar": {
             "outlinewidth": 0,
             "ticks": ""
            },
            "colorscale": [
             [
              0,
              "#0d0887"
             ],
             [
              0.1111111111111111,
              "#46039f"
             ],
             [
              0.2222222222222222,
              "#7201a8"
             ],
             [
              0.3333333333333333,
              "#9c179e"
             ],
             [
              0.4444444444444444,
              "#bd3786"
             ],
             [
              0.5555555555555556,
              "#d8576b"
             ],
             [
              0.6666666666666666,
              "#ed7953"
             ],
             [
              0.7777777777777778,
              "#fb9f3a"
             ],
             [
              0.8888888888888888,
              "#fdca26"
             ],
             [
              1,
              "#f0f921"
             ]
            ],
            "type": "contour"
           }
          ],
          "contourcarpet": [
           {
            "colorbar": {
             "outlinewidth": 0,
             "ticks": ""
            },
            "type": "contourcarpet"
           }
          ],
          "heatmap": [
           {
            "colorbar": {
             "outlinewidth": 0,
             "ticks": ""
            },
            "colorscale": [
             [
              0,
              "#0d0887"
             ],
             [
              0.1111111111111111,
              "#46039f"
             ],
             [
              0.2222222222222222,
              "#7201a8"
             ],
             [
              0.3333333333333333,
              "#9c179e"
             ],
             [
              0.4444444444444444,
              "#bd3786"
             ],
             [
              0.5555555555555556,
              "#d8576b"
             ],
             [
              0.6666666666666666,
              "#ed7953"
             ],
             [
              0.7777777777777778,
              "#fb9f3a"
             ],
             [
              0.8888888888888888,
              "#fdca26"
             ],
             [
              1,
              "#f0f921"
             ]
            ],
            "type": "heatmap"
           }
          ],
          "histogram": [
           {
            "marker": {
             "pattern": {
              "fillmode": "overlay",
              "size": 10,
              "solidity": 0.2
             }
            },
            "type": "histogram"
           }
          ],
          "histogram2d": [
           {
            "colorbar": {
             "outlinewidth": 0,
             "ticks": ""
            },
            "colorscale": [
             [
              0,
              "#0d0887"
             ],
             [
              0.1111111111111111,
              "#46039f"
             ],
             [
              0.2222222222222222,
              "#7201a8"
             ],
             [
              0.3333333333333333,
              "#9c179e"
             ],
             [
              0.4444444444444444,
              "#bd3786"
             ],
             [
              0.5555555555555556,
              "#d8576b"
             ],
             [
              0.6666666666666666,
              "#ed7953"
             ],
             [
              0.7777777777777778,
              "#fb9f3a"
             ],
             [
              0.8888888888888888,
              "#fdca26"
             ],
             [
              1,
              "#f0f921"
             ]
            ],
            "type": "histogram2d"
           }
          ],
          "histogram2dcontour": [
           {
            "colorbar": {
             "outlinewidth": 0,
             "ticks": ""
            },
            "colorscale": [
             [
              0,
              "#0d0887"
             ],
             [
              0.1111111111111111,
              "#46039f"
             ],
             [
              0.2222222222222222,
              "#7201a8"
             ],
             [
              0.3333333333333333,
              "#9c179e"
             ],
             [
              0.4444444444444444,
              "#bd3786"
             ],
             [
              0.5555555555555556,
              "#d8576b"
             ],
             [
              0.6666666666666666,
              "#ed7953"
             ],
             [
              0.7777777777777778,
              "#fb9f3a"
             ],
             [
              0.8888888888888888,
              "#fdca26"
             ],
             [
              1,
              "#f0f921"
             ]
            ],
            "type": "histogram2dcontour"
           }
          ],
          "mesh3d": [
           {
            "colorbar": {
             "outlinewidth": 0,
             "ticks": ""
            },
            "type": "mesh3d"
           }
          ],
          "parcoords": [
           {
            "line": {
             "colorbar": {
              "outlinewidth": 0,
              "ticks": ""
             }
            },
            "type": "parcoords"
           }
          ],
          "pie": [
           {
            "automargin": true,
            "type": "pie"
           }
          ],
          "scatter": [
           {
            "fillpattern": {
             "fillmode": "overlay",
             "size": 10,
             "solidity": 0.2
            },
            "type": "scatter"
           }
          ],
          "scatter3d": [
           {
            "line": {
             "colorbar": {
              "outlinewidth": 0,
              "ticks": ""
             }
            },
            "marker": {
             "colorbar": {
              "outlinewidth": 0,
              "ticks": ""
             }
            },
            "type": "scatter3d"
           }
          ],
          "scattercarpet": [
           {
            "marker": {
             "colorbar": {
              "outlinewidth": 0,
              "ticks": ""
             }
            },
            "type": "scattercarpet"
           }
          ],
          "scattergeo": [
           {
            "marker": {
             "colorbar": {
              "outlinewidth": 0,
              "ticks": ""
             }
            },
            "type": "scattergeo"
           }
          ],
          "scattergl": [
           {
            "marker": {
             "colorbar": {
              "outlinewidth": 0,
              "ticks": ""
             }
            },
            "type": "scattergl"
           }
          ],
          "scattermap": [
           {
            "marker": {
             "colorbar": {
              "outlinewidth": 0,
              "ticks": ""
             }
            },
            "type": "scattermap"
           }
          ],
          "scattermapbox": [
           {
            "marker": {
             "colorbar": {
              "outlinewidth": 0,
              "ticks": ""
             }
            },
            "type": "scattermapbox"
           }
          ],
          "scatterpolar": [
           {
            "marker": {
             "colorbar": {
              "outlinewidth": 0,
              "ticks": ""
             }
            },
            "type": "scatterpolar"
           }
          ],
          "scatterpolargl": [
           {
            "marker": {
             "colorbar": {
              "outlinewidth": 0,
              "ticks": ""
             }
            },
            "type": "scatterpolargl"
           }
          ],
          "scatterternary": [
           {
            "marker": {
             "colorbar": {
              "outlinewidth": 0,
              "ticks": ""
             }
            },
            "type": "scatterternary"
           }
          ],
          "surface": [
           {
            "colorbar": {
             "outlinewidth": 0,
             "ticks": ""
            },
            "colorscale": [
             [
              0,
              "#0d0887"
             ],
             [
              0.1111111111111111,
              "#46039f"
             ],
             [
              0.2222222222222222,
              "#7201a8"
             ],
             [
              0.3333333333333333,
              "#9c179e"
             ],
             [
              0.4444444444444444,
              "#bd3786"
             ],
             [
              0.5555555555555556,
              "#d8576b"
             ],
             [
              0.6666666666666666,
              "#ed7953"
             ],
             [
              0.7777777777777778,
              "#fb9f3a"
             ],
             [
              0.8888888888888888,
              "#fdca26"
             ],
             [
              1,
              "#f0f921"
             ]
            ],
            "type": "surface"
           }
          ],
          "table": [
           {
            "cells": {
             "fill": {
              "color": "#EBF0F8"
             },
             "line": {
              "color": "white"
             }
            },
            "header": {
             "fill": {
              "color": "#C8D4E3"
             },
             "line": {
              "color": "white"
             }
            },
            "type": "table"
           }
          ]
         },
         "layout": {
          "annotationdefaults": {
           "arrowcolor": "#2a3f5f",
           "arrowhead": 0,
           "arrowwidth": 1
          },
          "autotypenumbers": "strict",
          "coloraxis": {
           "colorbar": {
            "outlinewidth": 0,
            "ticks": ""
           }
          },
          "colorscale": {
           "diverging": [
            [
             0,
             "#8e0152"
            ],
            [
             0.1,
             "#c51b7d"
            ],
            [
             0.2,
             "#de77ae"
            ],
            [
             0.3,
             "#f1b6da"
            ],
            [
             0.4,
             "#fde0ef"
            ],
            [
             0.5,
             "#f7f7f7"
            ],
            [
             0.6,
             "#e6f5d0"
            ],
            [
             0.7,
             "#b8e186"
            ],
            [
             0.8,
             "#7fbc41"
            ],
            [
             0.9,
             "#4d9221"
            ],
            [
             1,
             "#276419"
            ]
           ],
           "sequential": [
            [
             0,
             "#0d0887"
            ],
            [
             0.1111111111111111,
             "#46039f"
            ],
            [
             0.2222222222222222,
             "#7201a8"
            ],
            [
             0.3333333333333333,
             "#9c179e"
            ],
            [
             0.4444444444444444,
             "#bd3786"
            ],
            [
             0.5555555555555556,
             "#d8576b"
            ],
            [
             0.6666666666666666,
             "#ed7953"
            ],
            [
             0.7777777777777778,
             "#fb9f3a"
            ],
            [
             0.8888888888888888,
             "#fdca26"
            ],
            [
             1,
             "#f0f921"
            ]
           ],
           "sequentialminus": [
            [
             0,
             "#0d0887"
            ],
            [
             0.1111111111111111,
             "#46039f"
            ],
            [
             0.2222222222222222,
             "#7201a8"
            ],
            [
             0.3333333333333333,
             "#9c179e"
            ],
            [
             0.4444444444444444,
             "#bd3786"
            ],
            [
             0.5555555555555556,
             "#d8576b"
            ],
            [
             0.6666666666666666,
             "#ed7953"
            ],
            [
             0.7777777777777778,
             "#fb9f3a"
            ],
            [
             0.8888888888888888,
             "#fdca26"
            ],
            [
             1,
             "#f0f921"
            ]
           ]
          },
          "colorway": [
           "#636efa",
           "#EF553B",
           "#00cc96",
           "#ab63fa",
           "#FFA15A",
           "#19d3f3",
           "#FF6692",
           "#B6E880",
           "#FF97FF",
           "#FECB52"
          ],
          "font": {
           "color": "#2a3f5f"
          },
          "geo": {
           "bgcolor": "white",
           "lakecolor": "white",
           "landcolor": "#E5ECF6",
           "showlakes": true,
           "showland": true,
           "subunitcolor": "white"
          },
          "hoverlabel": {
           "align": "left"
          },
          "hovermode": "closest",
          "mapbox": {
           "style": "light"
          },
          "paper_bgcolor": "white",
          "plot_bgcolor": "#E5ECF6",
          "polar": {
           "angularaxis": {
            "gridcolor": "white",
            "linecolor": "white",
            "ticks": ""
           },
           "bgcolor": "#E5ECF6",
           "radialaxis": {
            "gridcolor": "white",
            "linecolor": "white",
            "ticks": ""
           }
          },
          "scene": {
           "xaxis": {
            "backgroundcolor": "#E5ECF6",
            "gridcolor": "white",
            "gridwidth": 2,
            "linecolor": "white",
            "showbackground": true,
            "ticks": "",
            "zerolinecolor": "white"
           },
           "yaxis": {
            "backgroundcolor": "#E5ECF6",
            "gridcolor": "white",
            "gridwidth": 2,
            "linecolor": "white",
            "showbackground": true,
            "ticks": "",
            "zerolinecolor": "white"
           },
           "zaxis": {
            "backgroundcolor": "#E5ECF6",
            "gridcolor": "white",
            "gridwidth": 2,
            "linecolor": "white",
            "showbackground": true,
            "ticks": "",
            "zerolinecolor": "white"
           }
          },
          "shapedefaults": {
           "line": {
            "color": "#2a3f5f"
           }
          },
          "ternary": {
           "aaxis": {
            "gridcolor": "white",
            "linecolor": "white",
            "ticks": ""
           },
           "baxis": {
            "gridcolor": "white",
            "linecolor": "white",
            "ticks": ""
           },
           "bgcolor": "#E5ECF6",
           "caxis": {
            "gridcolor": "white",
            "linecolor": "white",
            "ticks": ""
           }
          },
          "title": {
           "x": 0.05
          },
          "xaxis": {
           "automargin": true,
           "gridcolor": "white",
           "linecolor": "white",
           "ticks": "",
           "title": {
            "standoff": 15
           },
           "zerolinecolor": "white",
           "zerolinewidth": 2
          },
          "yaxis": {
           "automargin": true,
           "gridcolor": "white",
           "linecolor": "white",
           "ticks": "",
           "title": {
            "standoff": 15
           },
           "zerolinecolor": "white",
           "zerolinewidth": 2
          }
         }
        },
        "title": {
         "text": "Feature Selection Analysis"
        },
        "xaxis": {
         "anchor": "y",
         "domain": [
          0,
          0.45
         ]
        },
        "xaxis2": {
         "anchor": "y2",
         "domain": [
          0.55,
          1
         ]
        },
        "yaxis": {
         "anchor": "x",
         "domain": [
          0,
          1
         ]
        },
        "yaxis2": {
         "anchor": "x2",
         "domain": [
          0,
          1
         ]
        }
       }
      }
     },
     "metadata": {},
     "output_type": "display_data"
    }
   ],
   "source": [
    "### INTERACTIVE PLOT FOR JUPYTER NOTEBOOK\n",
    "import plotly.graph_objects as go\n",
    "from plotly.subplots import make_subplots\n",
    "\n",
    "# Create subplot\n",
    "fig = make_subplots(\n",
    "    rows=1, cols=2,\n",
    "    subplot_titles=('Top 20 Features - Ensemble Score', 'Method Comparison'),\n",
    "    specs=[[{\"type\": \"bar\"}, {\"type\": \"bar\"}]]\n",
    ")\n",
    "\n",
    "# Top features\n",
    "top_20 = combined_scores.head(20)\n",
    "fig.add_trace(\n",
    "    go.Bar(x=top_20['ensemble_score'], y=top_20['feature'], orientation='h', name='Ensemble Score'),\n",
    "    row=1, col=1\n",
    ")\n",
    "\n",
    "# Method comparison for top 10\n",
    "top_10 = combined_scores.head(15)\n",
    "fig.add_trace(\n",
    "    go.Bar(name='XGBoost', x=top_10['feature'], y=top_10['xgb_importance_norm']), \n",
    "    row=1, col=2\n",
    ")\n",
    "fig.add_trace(\n",
    "    go.Bar(name='Mutual Info', x=top_10['feature'], y=top_10['mutual_info_norm']), \n",
    "    row=1, col=2\n",
    ")\n",
    "fig.add_trace(\n",
    "    go.Bar(name='Correlation', x=top_10['feature'], y=top_10['correlation_norm']), \n",
    "    row=1, col=2\n",
    ")\n",
    "\n",
    "fig.update_layout(height=600, showlegend=True, title_text=\"Feature Selection Analysis\")\n",
    "fig.show()"
   ]
  },
  {
   "cell_type": "markdown",
   "id": "959fbc11",
   "metadata": {},
   "source": [
    "### Model Tunning"
   ]
  },
  {
   "cell_type": "code",
   "execution_count": 40,
   "id": "0d7bca84",
   "metadata": {},
   "outputs": [],
   "source": [
    "def __init__(self):\n",
    "        self.models = {}\n",
    "        self.weights = {}"
   ]
  },
  {
   "cell_type": "code",
   "execution_count": 41,
   "id": "0949f5cf",
   "metadata": {},
   "outputs": [],
   "source": [
    "# XGBoost - Optimized for marketing campaigns\n",
    "xgb_model = XGBClassifier(\n",
    "            objective='binary:logistic',\n",
    "            learning_rate=0.015,      # Low learning rate for precision\n",
    "            max_depth=7,              # Deep trees for complex patterns\n",
    "            n_estimators=2500,        # Balanced number\n",
    "            subsample=0.85,\n",
    "            colsample_bytree=0.85,\n",
    "            min_child_weight=2,\n",
    "            gamma=0.05,               # Light regularization\n",
    "            reg_alpha=0.05,\n",
    "            reg_lambda=0.05,\n",
    "            random_state=42,\n",
    "            verbosity=0\n",
    ")  "
   ]
  },
  {
   "cell_type": "code",
   "execution_count": 42,
   "id": "51112482",
   "metadata": {},
   "outputs": [],
   "source": [
    "# LightGBM - Fast and accurate for large datasets\n",
    "lgb_model = lgb.LGBMClassifier(\n",
    "            objective='binary',\n",
    "            metric='auc',\n",
    "            learning_rate=0.012,\n",
    "            num_leaves=63,            # More leaves for complex patterns\n",
    "            max_depth=8,\n",
    "            n_estimators=2200,\n",
    "            subsample=0.9,\n",
    "            colsample_bytree=0.9,\n",
    "            min_child_samples=15,\n",
    "            reg_alpha=0.08,\n",
    "            reg_lambda=0.08,\n",
    "            random_state=123,\n",
    "            verbosity=-1\n",
    ")       "
   ]
  },
  {
   "cell_type": "code",
   "execution_count": 43,
   "id": "8b15a714",
   "metadata": {},
   "outputs": [],
   "source": [
    "from catboost import CatBoostClassifier\n",
    "cat = CatBoostClassifier(\n",
    "            iterations=1800,\n",
    "            learning_rate=0.025,\n",
    "            depth=6,\n",
    "            l2_leaf_reg=2.5,\n",
    "            bootstrap_type='Bayesian',\n",
    "            random_seed=456,\n",
    "            verbose=False,\n",
    "            eval_metric='AUC'\n",
    "        )"
   ]
  },
  {
   "cell_type": "code",
   "execution_count": 44,
   "id": "ad3be882",
   "metadata": {},
   "outputs": [
    {
     "name": "stdout",
     "output_type": "stream",
     "text": [
      "\n",
      "Training all models...\n",
      "   Training XGBoost...\n",
      "   ✅ XGBoost training completed\n",
      "   Training LightGBM...\n",
      "   ✅ LightGBM training completed\n",
      "   Training CatBoost...\n",
      "   ✅ CatBoost training completed\n"
     ]
    }
   ],
   "source": [
    "models = {\n",
    "    'XGBoost': xgb_model,\n",
    "    'LightGBM': lgb_model,\n",
    "    'CatBoost': cat\n",
    "}\n",
    "\n",
    "# 2. TRAIN ALL MODELS\n",
    "print(\"\\nTraining all models...\")\n",
    "trained_models = {}\n",
    "\n",
    "for name, model in models.items():\n",
    "    print(f\"   Training {name}...\")\n",
    "    \n",
    "    if name == 'CatBoost':\n",
    "        model.fit(X_train_full, y_train_full, verbose=False)\n",
    "    else:\n",
    "        model.fit(X_train_full, y_train_full)\n",
    "    \n",
    "    trained_models[name] = model\n",
    "    print(f\"   ✅ {name} training completed\")"
   ]
  },
  {
   "cell_type": "markdown",
   "id": "99166358",
   "metadata": {},
   "source": [
    "### 3. CROSS-VALIDATION FOR PERFORMANCE ESTIMATION"
   ]
  },
  {
   "cell_type": "code",
   "execution_count": 45,
   "id": "c84bced4",
   "metadata": {},
   "outputs": [
    {
     "name": "stdout",
     "output_type": "stream",
     "text": [
      "\n",
      "Evaluating model performance...\n",
      "   Cross-validating XGBoost...\n",
      " XGBoost CV AUC: 0.948673 (+/- 0.001132)\n",
      "   Cross-validating LightGBM...\n",
      " LightGBM CV AUC: 0.948820 (+/- 0.000989)\n",
      "   Cross-validating CatBoost...\n",
      " CatBoost CV AUC: 0.943078 (+/- 0.001253)\n"
     ]
    }
   ],
   "source": [
    "print(\"\\nEvaluating model performance...\")\n",
    "\n",
    "cv_scores = {}\n",
    "for name, model in trained_models.items():\n",
    "    print(f\"   Cross-validating {name}...\")\n",
    "    \n",
    "    scores = cross_val_score(\n",
    "        model, X_train_full, y_train_full,\n",
    "        cv=StratifiedKFold(n_splits=5, shuffle=True, random_state=42),\n",
    "        scoring='roc_auc',\n",
    "        n_jobs=-1\n",
    "    )\n",
    "    \n",
    "    cv_scores[name] = {\n",
    "        'mean': scores.mean(),\n",
    "        'std': scores.std(),\n",
    "        'scores': scores\n",
    "    }\n",
    "    \n",
    "    print(f\" {name} CV AUC: {scores.mean():.6f} (+/- {scores.std() * 2:.6f})\")"
   ]
  },
  {
   "cell_type": "code",
   "execution_count": 49,
   "id": "9b2577c8",
   "metadata": {},
   "outputs": [
    {
     "name": "stdout",
     "output_type": "stream",
     "text": [
      "\n",
      "📊 Cross-Validation AUC Scores Summary:\n",
      "XGBoost: 0.948673 ± 0.001132\n",
      "LightGBM: 0.948820 ± 0.000989\n",
      "CatBoost: 0.943078 ± 0.001253\n"
     ]
    }
   ],
   "source": [
    "# Display CV results\n",
    "print(\"\\n📊 Cross-Validation AUC Scores Summary:\")\n",
    "for name, score_info in cv_scores.items():\n",
    "    print(f\"{name}: {score_info['mean']:.6f} ± {score_info['std'] * 2:.6f}\")"
   ]
  },
  {
   "cell_type": "markdown",
   "id": "e2a91bd7",
   "metadata": {},
   "source": [
    "### Define Optuna Objective Function"
   ]
  },
  {
   "cell_type": "code",
   "execution_count": 51,
   "id": "ba833f7f",
   "metadata": {},
   "outputs": [],
   "source": [
    "def objective(trial):\n",
    "    # Suggest hyperparameters\n",
    "    params = {\n",
    "        'n_estimators': trial.suggest_int('n_estimators', 1000, 5000),\n",
    "        'max_depth': trial.suggest_int('max_depth', 3, 12),\n",
    "        'learning_rate': trial.suggest_float('learning_rate', 0.005, 0.1),\n",
    "        'subsample': trial.suggest_float('subsample', 0.6, 1.0),\n",
    "        'colsample_bytree': trial.suggest_float('colsample_bytree', 0.6, 1.0),\n",
    "        'gamma': trial.suggest_float('gamma', 0, 1),\n",
    "        'reg_alpha': trial.suggest_float('reg_alpha', 0, 1),\n",
    "        'reg_lambda': trial.suggest_float('reg_lambda', 0, 1),\n",
    "        'min_child_weight': trial.suggest_int('min_child_weight', 1, 10),\n",
    "        'random_state': 42,\n",
    "        'verbosity': 0,\n",
    "        'objective': 'binary:logistic'\n",
    "    }\n",
    "    \n",
    "    # Create model with suggested parameters\n",
    "    model = xgb.XGBClassifier(**params)\n",
    "    \n",
    "    # Cross-validation\n",
    "    cv_scores = cross_val_score(\n",
    "        model, X_train_full, y_train_full,\n",
    "        cv=StratifiedKFold(n_splits=5, shuffle=True, random_state=42),\n",
    "        scoring='roc_auc',\n",
    "        n_jobs=-1\n",
    "    )\n",
    "    \n",
    "    # Return mean CV score (Optuna maximizes this)\n",
    "    return cv_scores.mean()"
   ]
  },
  {
   "cell_type": "markdown",
   "id": "6655015d",
   "metadata": {},
   "source": [
    "### Run Optuna Optimization"
   ]
  },
  {
   "cell_type": "code",
   "execution_count": 52,
   "id": "dc34160e",
   "metadata": {},
   "outputs": [
    {
     "name": "stderr",
     "output_type": "stream",
     "text": [
      "[I 2025-09-05 16:39:59,468] A new study created in memory with name: no-name-7a486757-8102-4c89-af0c-984bdce24422\n"
     ]
    }
   ],
   "source": [
    "# Create study\n",
    "study = optuna.create_study(\n",
    "    direction='maximize',  # We want to maximize ROC-AUC\n",
    "    sampler=optuna.samplers.TPESampler(seed=42)  # Reproducible results\n",
    ")"
   ]
  },
  {
   "cell_type": "code",
   "execution_count": 54,
   "id": "9c8e63d5",
   "metadata": {},
   "outputs": [
    {
     "name": "stdout",
     "output_type": "stream",
     "text": [
      "🚀 Starting Optuna optimization...\n",
      "This may take 30-60 minutes depending on your hardware...\n"
     ]
    },
    {
     "name": "stderr",
     "output_type": "stream",
     "text": [
      "[I 2025-09-05 16:50:48,591] Trial 0 finished with value: 0.942088337770447 and parameters: {'n_estimators': 2498, 'max_depth': 12, 'learning_rate': 0.07453942447208349, 'subsample': 0.8394633936788146, 'colsample_bytree': 0.6624074561769746, 'gamma': 0.15599452033620265, 'reg_alpha': 0.05808361216819946, 'reg_lambda': 0.8661761457749352, 'min_child_weight': 7}. Best is trial 0 with value: 0.942088337770447.\n",
      "[I 2025-09-05 16:56:30,160] Trial 1 finished with value: 0.9484339074585393 and parameters: {'n_estimators': 3832, 'max_depth': 3, 'learning_rate': 0.09714143595538946, 'subsample': 0.9329770563201687, 'colsample_bytree': 0.6849356442713105, 'gamma': 0.18182496720710062, 'reg_alpha': 0.18340450985343382, 'reg_lambda': 0.3042422429595377, 'min_child_weight': 6}. Best is trial 1 with value: 0.9484339074585393.\n",
      "[I 2025-09-05 17:02:00,044] Trial 2 finished with value: 0.9486800542126896 and parameters: {'n_estimators': 2728, 'max_depth': 5, 'learning_rate': 0.06312602499862605, 'subsample': 0.6557975442608167, 'colsample_bytree': 0.7168578594140873, 'gamma': 0.3663618432936917, 'reg_alpha': 0.45606998421703593, 'reg_lambda': 0.7851759613930136, 'min_child_weight': 2}. Best is trial 2 with value: 0.9486800542126896.\n",
      "[I 2025-09-05 17:10:27,284] Trial 3 finished with value: 0.9486756993677515 and parameters: {'n_estimators': 3057, 'max_depth': 8, 'learning_rate': 0.009412789208399785, 'subsample': 0.8430179407605753, 'colsample_bytree': 0.6682096494749166, 'gamma': 0.06505159298527952, 'reg_alpha': 0.9488855372533332, 'reg_lambda': 0.9656320330745594, 'min_child_weight': 9}. Best is trial 2 with value: 0.9486800542126896.\n",
      "[I 2025-09-05 17:13:43,978] Trial 4 finished with value: 0.9469259835292316 and parameters: {'n_estimators': 2218, 'max_depth': 3, 'learning_rate': 0.07000213751865492, 'subsample': 0.7760609974958406, 'colsample_bytree': 0.6488152939379115, 'gamma': 0.4951769101112702, 'reg_alpha': 0.034388521115218396, 'reg_lambda': 0.9093204020787821, 'min_child_weight': 3}. Best is trial 2 with value: 0.9486800542126896.\n",
      "[I 2025-09-05 17:21:10,789] Trial 5 finished with value: 0.9488866046154618 and parameters: {'n_estimators': 3650, 'max_depth': 6, 'learning_rate': 0.054406462011892025, 'subsample': 0.8186841117373118, 'colsample_bytree': 0.6739417822102108, 'gamma': 0.9695846277645586, 'reg_alpha': 0.7751328233611146, 'reg_lambda': 0.9394989415641891, 'min_child_weight': 9}. Best is trial 5 with value: 0.9488866046154618.\n",
      "[I 2025-09-05 17:34:43,023] Trial 6 finished with value: 0.9479308700013759 and parameters: {'n_estimators': 3392, 'max_depth': 12, 'learning_rate': 0.013406787694932351, 'subsample': 0.6783931449676581, 'colsample_bytree': 0.6180909155642152, 'gamma': 0.32533033076326434, 'reg_alpha': 0.388677289689482, 'reg_lambda': 0.2713490317738959, 'min_child_weight': 9}. Best is trial 5 with value: 0.9488866046154618.\n",
      "[I 2025-09-05 17:39:35,044] Trial 7 finished with value: 0.948738620656064 and parameters: {'n_estimators': 2427, 'max_depth': 5, 'learning_rate': 0.0565561279000336, 'subsample': 0.6563696899899051, 'colsample_bytree': 0.9208787923016158, 'gamma': 0.07455064367977082, 'reg_alpha': 0.9868869366005173, 'reg_lambda': 0.7722447692966574, 'min_child_weight': 2}. Best is trial 5 with value: 0.9488866046154618.\n",
      "[I 2025-09-05 17:43:02,599] Trial 8 finished with value: 0.9473892526262823 and parameters: {'n_estimators': 1022, 'max_depth': 11, 'learning_rate': 0.07215144766552363, 'subsample': 0.8916028672163949, 'colsample_bytree': 0.9085081386743783, 'gamma': 0.07404465173409036, 'reg_alpha': 0.3584657285442726, 'reg_lambda': 0.11586905952512971, 'min_child_weight': 9}. Best is trial 5 with value: 0.9488866046154618.\n"
     ]
    },
    {
     "name": "stdout",
     "output_type": "stream",
     "text": [
      "✅ Optimization completed!\n"
     ]
    }
   ],
   "source": [
    "# Run optimization (start with 50 trials, then increase if needed)\n",
    "print(\"🚀 Starting Optuna optimization...\")\n",
    "print(\"This may take 30-60 minutes depending on your hardware...\")\n",
    "\n",
    "try:\n",
    "    study.optimize(objective, n_trials=5, timeout=3600)  # 1 hour timeout\n",
    "    print(\"✅ Optimization completed!\")\n",
    "except Exception as e:\n",
    "    print(f\"⚠️ Optimization interrupted: {e}\")\n",
    "    print(\"But we can still use the best results so far!\")"
   ]
  },
  {
   "cell_type": "markdown",
   "id": "2c41beb5",
   "metadata": {},
   "source": [
    "### Analyze Results"
   ]
  },
  {
   "cell_type": "code",
   "execution_count": 64,
   "id": "04b3ae96",
   "metadata": {},
   "outputs": [
    {
     "name": "stdout",
     "output_type": "stream",
     "text": [
      "\n",
      "==================================================\n",
      "OPTUNA OPTIMIZATION RESULTS\n",
      "==================================================\n",
      "Best ROC-AUC: 0.948887\n",
      "Best parameters:\n",
      "  n_estimators: 3650\n",
      "  max_depth: 6\n",
      "  learning_rate: 0.054406462011892025\n",
      "  subsample: 0.8186841117373118\n",
      "  colsample_bytree: 0.6739417822102108\n",
      "  gamma: 0.9695846277645586\n",
      "  reg_alpha: 0.7751328233611146\n",
      "  reg_lambda: 0.9394989415641891\n",
      "  min_child_weight: 9\n",
      "\n",
      "📊 Optimization History:\n"
     ]
    },
    {
     "data": {
      "application/vnd.plotly.v1+json": {
       "config": {
        "plotlyServerURL": "https://plot.ly"
       },
       "data": [
        {
         "mode": "markers",
         "name": "Objective Value",
         "type": "scatter",
         "x": [
          0,
          1,
          2,
          3,
          4,
          5,
          6,
          7,
          8
         ],
         "y": [
          0.942088337770447,
          0.9484339074585393,
          0.9486800542126896,
          0.9486756993677515,
          0.9469259835292316,
          0.9488866046154618,
          0.9479308700013759,
          0.948738620656064,
          0.9473892526262823
         ]
        },
        {
         "mode": "lines",
         "name": "Best Value",
         "type": "scatter",
         "x": [
          0,
          1,
          2,
          3,
          4,
          5,
          6,
          7,
          8
         ],
         "y": [
          0.942088337770447,
          0.9484339074585393,
          0.9486800542126896,
          0.9486800542126896,
          0.9486800542126896,
          0.9488866046154618,
          0.9488866046154618,
          0.9488866046154618,
          0.9488866046154618
         ]
        },
        {
         "marker": {
          "color": "#cccccc"
         },
         "mode": "markers",
         "name": "Infeasible Trial",
         "showlegend": false,
         "type": "scatter",
         "x": [],
         "y": []
        }
       ],
       "layout": {
        "template": {
         "data": {
          "bar": [
           {
            "error_x": {
             "color": "#2a3f5f"
            },
            "error_y": {
             "color": "#2a3f5f"
            },
            "marker": {
             "line": {
              "color": "#E5ECF6",
              "width": 0.5
             },
             "pattern": {
              "fillmode": "overlay",
              "size": 10,
              "solidity": 0.2
             }
            },
            "type": "bar"
           }
          ],
          "barpolar": [
           {
            "marker": {
             "line": {
              "color": "#E5ECF6",
              "width": 0.5
             },
             "pattern": {
              "fillmode": "overlay",
              "size": 10,
              "solidity": 0.2
             }
            },
            "type": "barpolar"
           }
          ],
          "carpet": [
           {
            "aaxis": {
             "endlinecolor": "#2a3f5f",
             "gridcolor": "white",
             "linecolor": "white",
             "minorgridcolor": "white",
             "startlinecolor": "#2a3f5f"
            },
            "baxis": {
             "endlinecolor": "#2a3f5f",
             "gridcolor": "white",
             "linecolor": "white",
             "minorgridcolor": "white",
             "startlinecolor": "#2a3f5f"
            },
            "type": "carpet"
           }
          ],
          "choropleth": [
           {
            "colorbar": {
             "outlinewidth": 0,
             "ticks": ""
            },
            "type": "choropleth"
           }
          ],
          "contour": [
           {
            "colorbar": {
             "outlinewidth": 0,
             "ticks": ""
            },
            "colorscale": [
             [
              0,
              "#0d0887"
             ],
             [
              0.1111111111111111,
              "#46039f"
             ],
             [
              0.2222222222222222,
              "#7201a8"
             ],
             [
              0.3333333333333333,
              "#9c179e"
             ],
             [
              0.4444444444444444,
              "#bd3786"
             ],
             [
              0.5555555555555556,
              "#d8576b"
             ],
             [
              0.6666666666666666,
              "#ed7953"
             ],
             [
              0.7777777777777778,
              "#fb9f3a"
             ],
             [
              0.8888888888888888,
              "#fdca26"
             ],
             [
              1,
              "#f0f921"
             ]
            ],
            "type": "contour"
           }
          ],
          "contourcarpet": [
           {
            "colorbar": {
             "outlinewidth": 0,
             "ticks": ""
            },
            "type": "contourcarpet"
           }
          ],
          "heatmap": [
           {
            "colorbar": {
             "outlinewidth": 0,
             "ticks": ""
            },
            "colorscale": [
             [
              0,
              "#0d0887"
             ],
             [
              0.1111111111111111,
              "#46039f"
             ],
             [
              0.2222222222222222,
              "#7201a8"
             ],
             [
              0.3333333333333333,
              "#9c179e"
             ],
             [
              0.4444444444444444,
              "#bd3786"
             ],
             [
              0.5555555555555556,
              "#d8576b"
             ],
             [
              0.6666666666666666,
              "#ed7953"
             ],
             [
              0.7777777777777778,
              "#fb9f3a"
             ],
             [
              0.8888888888888888,
              "#fdca26"
             ],
             [
              1,
              "#f0f921"
             ]
            ],
            "type": "heatmap"
           }
          ],
          "histogram": [
           {
            "marker": {
             "pattern": {
              "fillmode": "overlay",
              "size": 10,
              "solidity": 0.2
             }
            },
            "type": "histogram"
           }
          ],
          "histogram2d": [
           {
            "colorbar": {
             "outlinewidth": 0,
             "ticks": ""
            },
            "colorscale": [
             [
              0,
              "#0d0887"
             ],
             [
              0.1111111111111111,
              "#46039f"
             ],
             [
              0.2222222222222222,
              "#7201a8"
             ],
             [
              0.3333333333333333,
              "#9c179e"
             ],
             [
              0.4444444444444444,
              "#bd3786"
             ],
             [
              0.5555555555555556,
              "#d8576b"
             ],
             [
              0.6666666666666666,
              "#ed7953"
             ],
             [
              0.7777777777777778,
              "#fb9f3a"
             ],
             [
              0.8888888888888888,
              "#fdca26"
             ],
             [
              1,
              "#f0f921"
             ]
            ],
            "type": "histogram2d"
           }
          ],
          "histogram2dcontour": [
           {
            "colorbar": {
             "outlinewidth": 0,
             "ticks": ""
            },
            "colorscale": [
             [
              0,
              "#0d0887"
             ],
             [
              0.1111111111111111,
              "#46039f"
             ],
             [
              0.2222222222222222,
              "#7201a8"
             ],
             [
              0.3333333333333333,
              "#9c179e"
             ],
             [
              0.4444444444444444,
              "#bd3786"
             ],
             [
              0.5555555555555556,
              "#d8576b"
             ],
             [
              0.6666666666666666,
              "#ed7953"
             ],
             [
              0.7777777777777778,
              "#fb9f3a"
             ],
             [
              0.8888888888888888,
              "#fdca26"
             ],
             [
              1,
              "#f0f921"
             ]
            ],
            "type": "histogram2dcontour"
           }
          ],
          "mesh3d": [
           {
            "colorbar": {
             "outlinewidth": 0,
             "ticks": ""
            },
            "type": "mesh3d"
           }
          ],
          "parcoords": [
           {
            "line": {
             "colorbar": {
              "outlinewidth": 0,
              "ticks": ""
             }
            },
            "type": "parcoords"
           }
          ],
          "pie": [
           {
            "automargin": true,
            "type": "pie"
           }
          ],
          "scatter": [
           {
            "fillpattern": {
             "fillmode": "overlay",
             "size": 10,
             "solidity": 0.2
            },
            "type": "scatter"
           }
          ],
          "scatter3d": [
           {
            "line": {
             "colorbar": {
              "outlinewidth": 0,
              "ticks": ""
             }
            },
            "marker": {
             "colorbar": {
              "outlinewidth": 0,
              "ticks": ""
             }
            },
            "type": "scatter3d"
           }
          ],
          "scattercarpet": [
           {
            "marker": {
             "colorbar": {
              "outlinewidth": 0,
              "ticks": ""
             }
            },
            "type": "scattercarpet"
           }
          ],
          "scattergeo": [
           {
            "marker": {
             "colorbar": {
              "outlinewidth": 0,
              "ticks": ""
             }
            },
            "type": "scattergeo"
           }
          ],
          "scattergl": [
           {
            "marker": {
             "colorbar": {
              "outlinewidth": 0,
              "ticks": ""
             }
            },
            "type": "scattergl"
           }
          ],
          "scattermap": [
           {
            "marker": {
             "colorbar": {
              "outlinewidth": 0,
              "ticks": ""
             }
            },
            "type": "scattermap"
           }
          ],
          "scattermapbox": [
           {
            "marker": {
             "colorbar": {
              "outlinewidth": 0,
              "ticks": ""
             }
            },
            "type": "scattermapbox"
           }
          ],
          "scatterpolar": [
           {
            "marker": {
             "colorbar": {
              "outlinewidth": 0,
              "ticks": ""
             }
            },
            "type": "scatterpolar"
           }
          ],
          "scatterpolargl": [
           {
            "marker": {
             "colorbar": {
              "outlinewidth": 0,
              "ticks": ""
             }
            },
            "type": "scatterpolargl"
           }
          ],
          "scatterternary": [
           {
            "marker": {
             "colorbar": {
              "outlinewidth": 0,
              "ticks": ""
             }
            },
            "type": "scatterternary"
           }
          ],
          "surface": [
           {
            "colorbar": {
             "outlinewidth": 0,
             "ticks": ""
            },
            "colorscale": [
             [
              0,
              "#0d0887"
             ],
             [
              0.1111111111111111,
              "#46039f"
             ],
             [
              0.2222222222222222,
              "#7201a8"
             ],
             [
              0.3333333333333333,
              "#9c179e"
             ],
             [
              0.4444444444444444,
              "#bd3786"
             ],
             [
              0.5555555555555556,
              "#d8576b"
             ],
             [
              0.6666666666666666,
              "#ed7953"
             ],
             [
              0.7777777777777778,
              "#fb9f3a"
             ],
             [
              0.8888888888888888,
              "#fdca26"
             ],
             [
              1,
              "#f0f921"
             ]
            ],
            "type": "surface"
           }
          ],
          "table": [
           {
            "cells": {
             "fill": {
              "color": "#EBF0F8"
             },
             "line": {
              "color": "white"
             }
            },
            "header": {
             "fill": {
              "color": "#C8D4E3"
             },
             "line": {
              "color": "white"
             }
            },
            "type": "table"
           }
          ]
         },
         "layout": {
          "annotationdefaults": {
           "arrowcolor": "#2a3f5f",
           "arrowhead": 0,
           "arrowwidth": 1
          },
          "autotypenumbers": "strict",
          "coloraxis": {
           "colorbar": {
            "outlinewidth": 0,
            "ticks": ""
           }
          },
          "colorscale": {
           "diverging": [
            [
             0,
             "#8e0152"
            ],
            [
             0.1,
             "#c51b7d"
            ],
            [
             0.2,
             "#de77ae"
            ],
            [
             0.3,
             "#f1b6da"
            ],
            [
             0.4,
             "#fde0ef"
            ],
            [
             0.5,
             "#f7f7f7"
            ],
            [
             0.6,
             "#e6f5d0"
            ],
            [
             0.7,
             "#b8e186"
            ],
            [
             0.8,
             "#7fbc41"
            ],
            [
             0.9,
             "#4d9221"
            ],
            [
             1,
             "#276419"
            ]
           ],
           "sequential": [
            [
             0,
             "#0d0887"
            ],
            [
             0.1111111111111111,
             "#46039f"
            ],
            [
             0.2222222222222222,
             "#7201a8"
            ],
            [
             0.3333333333333333,
             "#9c179e"
            ],
            [
             0.4444444444444444,
             "#bd3786"
            ],
            [
             0.5555555555555556,
             "#d8576b"
            ],
            [
             0.6666666666666666,
             "#ed7953"
            ],
            [
             0.7777777777777778,
             "#fb9f3a"
            ],
            [
             0.8888888888888888,
             "#fdca26"
            ],
            [
             1,
             "#f0f921"
            ]
           ],
           "sequentialminus": [
            [
             0,
             "#0d0887"
            ],
            [
             0.1111111111111111,
             "#46039f"
            ],
            [
             0.2222222222222222,
             "#7201a8"
            ],
            [
             0.3333333333333333,
             "#9c179e"
            ],
            [
             0.4444444444444444,
             "#bd3786"
            ],
            [
             0.5555555555555556,
             "#d8576b"
            ],
            [
             0.6666666666666666,
             "#ed7953"
            ],
            [
             0.7777777777777778,
             "#fb9f3a"
            ],
            [
             0.8888888888888888,
             "#fdca26"
            ],
            [
             1,
             "#f0f921"
            ]
           ]
          },
          "colorway": [
           "#636efa",
           "#EF553B",
           "#00cc96",
           "#ab63fa",
           "#FFA15A",
           "#19d3f3",
           "#FF6692",
           "#B6E880",
           "#FF97FF",
           "#FECB52"
          ],
          "font": {
           "color": "#2a3f5f"
          },
          "geo": {
           "bgcolor": "white",
           "lakecolor": "white",
           "landcolor": "#E5ECF6",
           "showlakes": true,
           "showland": true,
           "subunitcolor": "white"
          },
          "hoverlabel": {
           "align": "left"
          },
          "hovermode": "closest",
          "mapbox": {
           "style": "light"
          },
          "paper_bgcolor": "white",
          "plot_bgcolor": "#E5ECF6",
          "polar": {
           "angularaxis": {
            "gridcolor": "white",
            "linecolor": "white",
            "ticks": ""
           },
           "bgcolor": "#E5ECF6",
           "radialaxis": {
            "gridcolor": "white",
            "linecolor": "white",
            "ticks": ""
           }
          },
          "scene": {
           "xaxis": {
            "backgroundcolor": "#E5ECF6",
            "gridcolor": "white",
            "gridwidth": 2,
            "linecolor": "white",
            "showbackground": true,
            "ticks": "",
            "zerolinecolor": "white"
           },
           "yaxis": {
            "backgroundcolor": "#E5ECF6",
            "gridcolor": "white",
            "gridwidth": 2,
            "linecolor": "white",
            "showbackground": true,
            "ticks": "",
            "zerolinecolor": "white"
           },
           "zaxis": {
            "backgroundcolor": "#E5ECF6",
            "gridcolor": "white",
            "gridwidth": 2,
            "linecolor": "white",
            "showbackground": true,
            "ticks": "",
            "zerolinecolor": "white"
           }
          },
          "shapedefaults": {
           "line": {
            "color": "#2a3f5f"
           }
          },
          "ternary": {
           "aaxis": {
            "gridcolor": "white",
            "linecolor": "white",
            "ticks": ""
           },
           "baxis": {
            "gridcolor": "white",
            "linecolor": "white",
            "ticks": ""
           },
           "bgcolor": "#E5ECF6",
           "caxis": {
            "gridcolor": "white",
            "linecolor": "white",
            "ticks": ""
           }
          },
          "title": {
           "x": 0.05
          },
          "xaxis": {
           "automargin": true,
           "gridcolor": "white",
           "linecolor": "white",
           "ticks": "",
           "title": {
            "standoff": 15
           },
           "zerolinecolor": "white",
           "zerolinewidth": 2
          },
          "yaxis": {
           "automargin": true,
           "gridcolor": "white",
           "linecolor": "white",
           "ticks": "",
           "title": {
            "standoff": 15
           },
           "zerolinecolor": "white",
           "zerolinewidth": 2
          }
         }
        },
        "title": {
         "text": "Optimization History Plot"
        },
        "xaxis": {
         "title": {
          "text": "Trial"
         }
        },
        "yaxis": {
         "title": {
          "text": "Objective Value"
         }
        }
       }
      }
     },
     "metadata": {},
     "output_type": "display_data"
    },
    {
     "name": "stdout",
     "output_type": "stream",
     "text": [
      "\n",
      "🎯 Parameter Importance:\n"
     ]
    },
    {
     "data": {
      "application/vnd.plotly.v1+json": {
       "config": {
        "plotlyServerURL": "https://plot.ly"
       },
       "data": [
        {
         "cliponaxis": false,
         "hovertemplate": [
          "min_child_weight (IntDistribution): 0.002090735252986981<extra></extra>",
          "subsample (FloatDistribution): 0.005538282487636521<extra></extra>",
          "gamma (FloatDistribution): 0.017413692076728073<extra></extra>",
          "colsample_bytree (FloatDistribution): 0.036095297772465965<extra></extra>",
          "reg_lambda (FloatDistribution): 0.08163370697847952<extra></extra>",
          "n_estimators (IntDistribution): 0.12935276236699172<extra></extra>",
          "max_depth (IntDistribution): 0.22391109606458348<extra></extra>",
          "learning_rate (FloatDistribution): 0.23751744569676045<extra></extra>",
          "reg_alpha (FloatDistribution): 0.26644698130336714<extra></extra>"
         ],
         "name": "Objective Value",
         "orientation": "h",
         "text": [
          "<0.01",
          "<0.01",
          "0.02",
          "0.04",
          "0.08",
          "0.13",
          "0.22",
          "0.24",
          "0.27"
         ],
         "textposition": "outside",
         "type": "bar",
         "x": [
          0.002090735252986981,
          0.005538282487636521,
          0.017413692076728073,
          0.036095297772465965,
          0.08163370697847952,
          0.12935276236699172,
          0.22391109606458348,
          0.23751744569676045,
          0.26644698130336714
         ],
         "y": [
          "min_child_weight",
          "subsample",
          "gamma",
          "colsample_bytree",
          "reg_lambda",
          "n_estimators",
          "max_depth",
          "learning_rate",
          "reg_alpha"
         ]
        }
       ],
       "layout": {
        "template": {
         "data": {
          "bar": [
           {
            "error_x": {
             "color": "#2a3f5f"
            },
            "error_y": {
             "color": "#2a3f5f"
            },
            "marker": {
             "line": {
              "color": "#E5ECF6",
              "width": 0.5
             },
             "pattern": {
              "fillmode": "overlay",
              "size": 10,
              "solidity": 0.2
             }
            },
            "type": "bar"
           }
          ],
          "barpolar": [
           {
            "marker": {
             "line": {
              "color": "#E5ECF6",
              "width": 0.5
             },
             "pattern": {
              "fillmode": "overlay",
              "size": 10,
              "solidity": 0.2
             }
            },
            "type": "barpolar"
           }
          ],
          "carpet": [
           {
            "aaxis": {
             "endlinecolor": "#2a3f5f",
             "gridcolor": "white",
             "linecolor": "white",
             "minorgridcolor": "white",
             "startlinecolor": "#2a3f5f"
            },
            "baxis": {
             "endlinecolor": "#2a3f5f",
             "gridcolor": "white",
             "linecolor": "white",
             "minorgridcolor": "white",
             "startlinecolor": "#2a3f5f"
            },
            "type": "carpet"
           }
          ],
          "choropleth": [
           {
            "colorbar": {
             "outlinewidth": 0,
             "ticks": ""
            },
            "type": "choropleth"
           }
          ],
          "contour": [
           {
            "colorbar": {
             "outlinewidth": 0,
             "ticks": ""
            },
            "colorscale": [
             [
              0,
              "#0d0887"
             ],
             [
              0.1111111111111111,
              "#46039f"
             ],
             [
              0.2222222222222222,
              "#7201a8"
             ],
             [
              0.3333333333333333,
              "#9c179e"
             ],
             [
              0.4444444444444444,
              "#bd3786"
             ],
             [
              0.5555555555555556,
              "#d8576b"
             ],
             [
              0.6666666666666666,
              "#ed7953"
             ],
             [
              0.7777777777777778,
              "#fb9f3a"
             ],
             [
              0.8888888888888888,
              "#fdca26"
             ],
             [
              1,
              "#f0f921"
             ]
            ],
            "type": "contour"
           }
          ],
          "contourcarpet": [
           {
            "colorbar": {
             "outlinewidth": 0,
             "ticks": ""
            },
            "type": "contourcarpet"
           }
          ],
          "heatmap": [
           {
            "colorbar": {
             "outlinewidth": 0,
             "ticks": ""
            },
            "colorscale": [
             [
              0,
              "#0d0887"
             ],
             [
              0.1111111111111111,
              "#46039f"
             ],
             [
              0.2222222222222222,
              "#7201a8"
             ],
             [
              0.3333333333333333,
              "#9c179e"
             ],
             [
              0.4444444444444444,
              "#bd3786"
             ],
             [
              0.5555555555555556,
              "#d8576b"
             ],
             [
              0.6666666666666666,
              "#ed7953"
             ],
             [
              0.7777777777777778,
              "#fb9f3a"
             ],
             [
              0.8888888888888888,
              "#fdca26"
             ],
             [
              1,
              "#f0f921"
             ]
            ],
            "type": "heatmap"
           }
          ],
          "histogram": [
           {
            "marker": {
             "pattern": {
              "fillmode": "overlay",
              "size": 10,
              "solidity": 0.2
             }
            },
            "type": "histogram"
           }
          ],
          "histogram2d": [
           {
            "colorbar": {
             "outlinewidth": 0,
             "ticks": ""
            },
            "colorscale": [
             [
              0,
              "#0d0887"
             ],
             [
              0.1111111111111111,
              "#46039f"
             ],
             [
              0.2222222222222222,
              "#7201a8"
             ],
             [
              0.3333333333333333,
              "#9c179e"
             ],
             [
              0.4444444444444444,
              "#bd3786"
             ],
             [
              0.5555555555555556,
              "#d8576b"
             ],
             [
              0.6666666666666666,
              "#ed7953"
             ],
             [
              0.7777777777777778,
              "#fb9f3a"
             ],
             [
              0.8888888888888888,
              "#fdca26"
             ],
             [
              1,
              "#f0f921"
             ]
            ],
            "type": "histogram2d"
           }
          ],
          "histogram2dcontour": [
           {
            "colorbar": {
             "outlinewidth": 0,
             "ticks": ""
            },
            "colorscale": [
             [
              0,
              "#0d0887"
             ],
             [
              0.1111111111111111,
              "#46039f"
             ],
             [
              0.2222222222222222,
              "#7201a8"
             ],
             [
              0.3333333333333333,
              "#9c179e"
             ],
             [
              0.4444444444444444,
              "#bd3786"
             ],
             [
              0.5555555555555556,
              "#d8576b"
             ],
             [
              0.6666666666666666,
              "#ed7953"
             ],
             [
              0.7777777777777778,
              "#fb9f3a"
             ],
             [
              0.8888888888888888,
              "#fdca26"
             ],
             [
              1,
              "#f0f921"
             ]
            ],
            "type": "histogram2dcontour"
           }
          ],
          "mesh3d": [
           {
            "colorbar": {
             "outlinewidth": 0,
             "ticks": ""
            },
            "type": "mesh3d"
           }
          ],
          "parcoords": [
           {
            "line": {
             "colorbar": {
              "outlinewidth": 0,
              "ticks": ""
             }
            },
            "type": "parcoords"
           }
          ],
          "pie": [
           {
            "automargin": true,
            "type": "pie"
           }
          ],
          "scatter": [
           {
            "fillpattern": {
             "fillmode": "overlay",
             "size": 10,
             "solidity": 0.2
            },
            "type": "scatter"
           }
          ],
          "scatter3d": [
           {
            "line": {
             "colorbar": {
              "outlinewidth": 0,
              "ticks": ""
             }
            },
            "marker": {
             "colorbar": {
              "outlinewidth": 0,
              "ticks": ""
             }
            },
            "type": "scatter3d"
           }
          ],
          "scattercarpet": [
           {
            "marker": {
             "colorbar": {
              "outlinewidth": 0,
              "ticks": ""
             }
            },
            "type": "scattercarpet"
           }
          ],
          "scattergeo": [
           {
            "marker": {
             "colorbar": {
              "outlinewidth": 0,
              "ticks": ""
             }
            },
            "type": "scattergeo"
           }
          ],
          "scattergl": [
           {
            "marker": {
             "colorbar": {
              "outlinewidth": 0,
              "ticks": ""
             }
            },
            "type": "scattergl"
           }
          ],
          "scattermap": [
           {
            "marker": {
             "colorbar": {
              "outlinewidth": 0,
              "ticks": ""
             }
            },
            "type": "scattermap"
           }
          ],
          "scattermapbox": [
           {
            "marker": {
             "colorbar": {
              "outlinewidth": 0,
              "ticks": ""
             }
            },
            "type": "scattermapbox"
           }
          ],
          "scatterpolar": [
           {
            "marker": {
             "colorbar": {
              "outlinewidth": 0,
              "ticks": ""
             }
            },
            "type": "scatterpolar"
           }
          ],
          "scatterpolargl": [
           {
            "marker": {
             "colorbar": {
              "outlinewidth": 0,
              "ticks": ""
             }
            },
            "type": "scatterpolargl"
           }
          ],
          "scatterternary": [
           {
            "marker": {
             "colorbar": {
              "outlinewidth": 0,
              "ticks": ""
             }
            },
            "type": "scatterternary"
           }
          ],
          "surface": [
           {
            "colorbar": {
             "outlinewidth": 0,
             "ticks": ""
            },
            "colorscale": [
             [
              0,
              "#0d0887"
             ],
             [
              0.1111111111111111,
              "#46039f"
             ],
             [
              0.2222222222222222,
              "#7201a8"
             ],
             [
              0.3333333333333333,
              "#9c179e"
             ],
             [
              0.4444444444444444,
              "#bd3786"
             ],
             [
              0.5555555555555556,
              "#d8576b"
             ],
             [
              0.6666666666666666,
              "#ed7953"
             ],
             [
              0.7777777777777778,
              "#fb9f3a"
             ],
             [
              0.8888888888888888,
              "#fdca26"
             ],
             [
              1,
              "#f0f921"
             ]
            ],
            "type": "surface"
           }
          ],
          "table": [
           {
            "cells": {
             "fill": {
              "color": "#EBF0F8"
             },
             "line": {
              "color": "white"
             }
            },
            "header": {
             "fill": {
              "color": "#C8D4E3"
             },
             "line": {
              "color": "white"
             }
            },
            "type": "table"
           }
          ]
         },
         "layout": {
          "annotationdefaults": {
           "arrowcolor": "#2a3f5f",
           "arrowhead": 0,
           "arrowwidth": 1
          },
          "autotypenumbers": "strict",
          "coloraxis": {
           "colorbar": {
            "outlinewidth": 0,
            "ticks": ""
           }
          },
          "colorscale": {
           "diverging": [
            [
             0,
             "#8e0152"
            ],
            [
             0.1,
             "#c51b7d"
            ],
            [
             0.2,
             "#de77ae"
            ],
            [
             0.3,
             "#f1b6da"
            ],
            [
             0.4,
             "#fde0ef"
            ],
            [
             0.5,
             "#f7f7f7"
            ],
            [
             0.6,
             "#e6f5d0"
            ],
            [
             0.7,
             "#b8e186"
            ],
            [
             0.8,
             "#7fbc41"
            ],
            [
             0.9,
             "#4d9221"
            ],
            [
             1,
             "#276419"
            ]
           ],
           "sequential": [
            [
             0,
             "#0d0887"
            ],
            [
             0.1111111111111111,
             "#46039f"
            ],
            [
             0.2222222222222222,
             "#7201a8"
            ],
            [
             0.3333333333333333,
             "#9c179e"
            ],
            [
             0.4444444444444444,
             "#bd3786"
            ],
            [
             0.5555555555555556,
             "#d8576b"
            ],
            [
             0.6666666666666666,
             "#ed7953"
            ],
            [
             0.7777777777777778,
             "#fb9f3a"
            ],
            [
             0.8888888888888888,
             "#fdca26"
            ],
            [
             1,
             "#f0f921"
            ]
           ],
           "sequentialminus": [
            [
             0,
             "#0d0887"
            ],
            [
             0.1111111111111111,
             "#46039f"
            ],
            [
             0.2222222222222222,
             "#7201a8"
            ],
            [
             0.3333333333333333,
             "#9c179e"
            ],
            [
             0.4444444444444444,
             "#bd3786"
            ],
            [
             0.5555555555555556,
             "#d8576b"
            ],
            [
             0.6666666666666666,
             "#ed7953"
            ],
            [
             0.7777777777777778,
             "#fb9f3a"
            ],
            [
             0.8888888888888888,
             "#fdca26"
            ],
            [
             1,
             "#f0f921"
            ]
           ]
          },
          "colorway": [
           "#636efa",
           "#EF553B",
           "#00cc96",
           "#ab63fa",
           "#FFA15A",
           "#19d3f3",
           "#FF6692",
           "#B6E880",
           "#FF97FF",
           "#FECB52"
          ],
          "font": {
           "color": "#2a3f5f"
          },
          "geo": {
           "bgcolor": "white",
           "lakecolor": "white",
           "landcolor": "#E5ECF6",
           "showlakes": true,
           "showland": true,
           "subunitcolor": "white"
          },
          "hoverlabel": {
           "align": "left"
          },
          "hovermode": "closest",
          "mapbox": {
           "style": "light"
          },
          "paper_bgcolor": "white",
          "plot_bgcolor": "#E5ECF6",
          "polar": {
           "angularaxis": {
            "gridcolor": "white",
            "linecolor": "white",
            "ticks": ""
           },
           "bgcolor": "#E5ECF6",
           "radialaxis": {
            "gridcolor": "white",
            "linecolor": "white",
            "ticks": ""
           }
          },
          "scene": {
           "xaxis": {
            "backgroundcolor": "#E5ECF6",
            "gridcolor": "white",
            "gridwidth": 2,
            "linecolor": "white",
            "showbackground": true,
            "ticks": "",
            "zerolinecolor": "white"
           },
           "yaxis": {
            "backgroundcolor": "#E5ECF6",
            "gridcolor": "white",
            "gridwidth": 2,
            "linecolor": "white",
            "showbackground": true,
            "ticks": "",
            "zerolinecolor": "white"
           },
           "zaxis": {
            "backgroundcolor": "#E5ECF6",
            "gridcolor": "white",
            "gridwidth": 2,
            "linecolor": "white",
            "showbackground": true,
            "ticks": "",
            "zerolinecolor": "white"
           }
          },
          "shapedefaults": {
           "line": {
            "color": "#2a3f5f"
           }
          },
          "ternary": {
           "aaxis": {
            "gridcolor": "white",
            "linecolor": "white",
            "ticks": ""
           },
           "baxis": {
            "gridcolor": "white",
            "linecolor": "white",
            "ticks": ""
           },
           "bgcolor": "#E5ECF6",
           "caxis": {
            "gridcolor": "white",
            "linecolor": "white",
            "ticks": ""
           }
          },
          "title": {
           "x": 0.05
          },
          "xaxis": {
           "automargin": true,
           "gridcolor": "white",
           "linecolor": "white",
           "ticks": "",
           "title": {
            "standoff": 15
           },
           "zerolinecolor": "white",
           "zerolinewidth": 2
          },
          "yaxis": {
           "automargin": true,
           "gridcolor": "white",
           "linecolor": "white",
           "ticks": "",
           "title": {
            "standoff": 15
           },
           "zerolinecolor": "white",
           "zerolinewidth": 2
          }
         }
        },
        "title": {
         "text": "Hyperparameter Importances"
        },
        "xaxis": {
         "title": {
          "text": "Hyperparameter Importance"
         }
        },
        "yaxis": {
         "title": {
          "text": "Hyperparameter"
         }
        }
       }
      }
     },
     "metadata": {},
     "output_type": "display_data"
    }
   ],
   "source": [
    "# Print best results\n",
    "print(\"\\n\" + \"=\"*50)\n",
    "print(\"OPTUNA OPTIMIZATION RESULTS\")\n",
    "print(\"=\"*50)\n",
    "print(f\"Best ROC-AUC: {study.best_value:.6f}\")\n",
    "print(f\"Best parameters:\")\n",
    "for key, value in study.best_params.items():\n",
    "    print(f\"  {key}: {value}\")\n",
    "\n",
    "# Show optimization history\n",
    "print(\"\\n📊 Optimization History:\")\n",
    "optuna.visualization.plot_optimization_history(study).show()\n",
    "\n",
    "# Show parameter importance\n",
    "print(\"\\n🎯 Parameter Importance:\")\n",
    "optuna.visualization.plot_param_importances(study).show()"
   ]
  },
  {
   "cell_type": "markdown",
   "id": "7515ee55",
   "metadata": {},
   "source": [
    "### Train Final Optimized Model"
   ]
  },
  {
   "cell_type": "code",
   "execution_count": 56,
   "id": "4169b9a5",
   "metadata": {},
   "outputs": [
    {
     "name": "stdout",
     "output_type": "stream",
     "text": [
      "\n",
      "🚀 Training final optimized model...\n",
      "✅ Final model trained!\n",
      "\n",
      "📈 Final Model Performance:\n",
      "CV ROC-AUC: 0.948887 ± 0.001144\n"
     ]
    }
   ],
   "source": [
    "# Create model with best parameters\n",
    "best_params = study.best_params.copy()\n",
    "best_params.update({\n",
    "    'random_state': 42,\n",
    "    'verbosity': 0,\n",
    "    'objective': 'binary:logistic'\n",
    "})\n",
    "\n",
    "optimized_xgb = xgb.XGBClassifier(**best_params)\n",
    "\n",
    "# Train on full dataset\n",
    "print(\"\\n🚀 Training final optimized model...\")\n",
    "optimized_xgb.fit(X_train_full, y_train_full)\n",
    "print(\"✅ Final model trained!\")\n",
    "\n",
    "# Validate performance\n",
    "cv_scores = cross_val_score(\n",
    "    optimized_xgb, X_train_full, y_train_full,\n",
    "    cv=StratifiedKFold(n_splits=5, shuffle=True, random_state=42),\n",
    "    scoring='roc_auc',\n",
    "    n_jobs=-1\n",
    ")\n",
    "\n",
    "print(f\"\\n📈 Final Model Performance:\")\n",
    "print(f\"CV ROC-AUC: {cv_scores.mean():.6f} ± {cv_scores.std() * 2:.6f}\")"
   ]
  },
  {
   "cell_type": "code",
   "execution_count": 58,
   "id": "6fb764c1",
   "metadata": {},
   "outputs": [
    {
     "name": "stdout",
     "output_type": "stream",
     "text": [
      "\n",
      "🔮 Generating predictions with optimized model...\n"
     ]
    }
   ],
   "source": [
    "# Make predictions with optimized model\n",
    "print(\"\\n🔮 Generating predictions with optimized model...\")\n",
    "optimized_predictions = optimized_xgb.predict_proba(test_final)[:, 1]"
   ]
  },
  {
   "cell_type": "code",
   "execution_count": 59,
   "id": "6f51b76c",
   "metadata": {},
   "outputs": [],
   "source": [
    "# Save submission\n",
    "submission = pd.DataFrame({\n",
    "    'id': test_data['id'],  # Adjust column name if needed\n",
    "    'y': optimized_predictions\n",
    "})\n",
    "\n",
    "submission.to_csv('optuna_optimized_submission.csv', index=False)"
   ]
  },
  {
   "cell_type": "code",
   "execution_count": 61,
   "id": "881714ec",
   "metadata": {},
   "outputs": [],
   "source": [
    "# Weighted ensemble based on CV performance\n",
    "weights = {\n",
    "    'XGBoost': 0.35,\n",
    "    'LightGBM': 0.30,\n",
    "    'CatBoost': 0.25,\n",
    "    'RandomForest': 0.10\n",
    "}"
   ]
  },
  {
   "cell_type": "code",
   "execution_count": 62,
   "id": "da0d5db2",
   "metadata": {},
   "outputs": [
    {
     "ename": "NameError",
     "evalue": "name 'optimized_models' is not defined",
     "output_type": "error",
     "traceback": [
      "\u001b[1;31m---------------------------------------------------------------------------\u001b[0m",
      "\u001b[1;31mNameError\u001b[0m                                 Traceback (most recent call last)",
      "Cell \u001b[1;32mIn[62], line 3\u001b[0m\n\u001b[0;32m      1\u001b[0m \u001b[38;5;66;03m# Generate predictions\u001b[39;00m\n\u001b[0;32m      2\u001b[0m predictions \u001b[38;5;241m=\u001b[39m {}\n\u001b[1;32m----> 3\u001b[0m \u001b[38;5;28;01mfor\u001b[39;00m name, model \u001b[38;5;129;01min\u001b[39;00m \u001b[43moptimized_models\u001b[49m\u001b[38;5;241m.\u001b[39mitems():\n\u001b[0;32m      4\u001b[0m     \u001b[38;5;28;01mif\u001b[39;00m name \u001b[38;5;241m==\u001b[39m \u001b[38;5;124m'\u001b[39m\u001b[38;5;124mCatBoost\u001b[39m\u001b[38;5;124m'\u001b[39m:\n\u001b[0;32m      5\u001b[0m         predictions[name] \u001b[38;5;241m=\u001b[39m model\u001b[38;5;241m.\u001b[39mpredict_proba(test_final)[:, \u001b[38;5;241m1\u001b[39m]\n",
      "\u001b[1;31mNameError\u001b[0m: name 'optimized_models' is not defined"
     ]
    }
   ],
   "source": [
    "# Generate predictions\n",
    "predictions = {}\n",
    "for name, model in optimized_models.items():\n",
    "    if name == 'CatBoost':\n",
    "        predictions[name] = model.predict_proba(test_final)[:, 1]\n",
    "    else:\n",
    "        predictions[name] = model.predict_proba(test_final)[:, 1]"
   ]
  },
  {
   "cell_type": "code",
   "execution_count": null,
   "id": "188d92f7",
   "metadata": {},
   "outputs": [],
   "source": []
  },
  {
   "cell_type": "code",
   "execution_count": null,
   "id": "e9ca4301",
   "metadata": {},
   "outputs": [],
   "source": []
  },
  {
   "cell_type": "code",
   "execution_count": null,
   "id": "ff697314",
   "metadata": {},
   "outputs": [],
   "source": []
  },
  {
   "cell_type": "code",
   "execution_count": 63,
   "id": "3d40bcc2",
   "metadata": {},
   "outputs": [
    {
     "name": "stdout",
     "output_type": "stream",
     "text": [
      "\n",
      "📊 Prediction Statistics:\n",
      "Min prediction: 0.000001\n",
      "Max prediction: 0.996078\n",
      "Mean prediction: 0.120092\n",
      "Std prediction: 0.227466\n"
     ]
    }
   ],
   "source": [
    "# Show prediction statistics\n",
    "print(f\"\\n📊 Prediction Statistics:\")\n",
    "print(f\"Min prediction: {optimized_predictions.min():.6f}\")\n",
    "print(f\"Max prediction: {optimized_predictions.max():.6f}\")\n",
    "print(f\"Mean prediction: {optimized_predictions.mean():.6f}\")\n",
    "print(f\"Std prediction: {optimized_predictions.std():.6f}\")"
   ]
  },
  {
   "cell_type": "code",
   "execution_count": null,
   "id": "3b1e9728",
   "metadata": {},
   "outputs": [],
   "source": []
  }
 ],
 "metadata": {
  "kernelspec": {
   "display_name": "Python 3",
   "language": "python",
   "name": "python3"
  },
  "language_info": {
   "codemirror_mode": {
    "name": "ipython",
    "version": 3
   },
   "file_extension": ".py",
   "mimetype": "text/x-python",
   "name": "python",
   "nbconvert_exporter": "python",
   "pygments_lexer": "ipython3",
   "version": "3.12.3"
  }
 },
 "nbformat": 4,
 "nbformat_minor": 5
}
